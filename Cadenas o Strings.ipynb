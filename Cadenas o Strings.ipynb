{
 "cells": [
  {
   "cell_type": "markdown",
   "id": "65fff8ac",
   "metadata": {},
   "source": [
    "## Indexación de Cadenas\n",
    "\n",
    "¿Qué es un índice?\n",
    "¿Por qué es necesario?\n",
    "\n",
    "- Indexación significa acceder a los elementos\n",
    "- Para acceder a los elementos podemos usar corchetes \"[]\"\n",
    "- El índice o número que pongamos se refiere a la posición dentro de la lista ordenada\n",
    "- La indexación puede usarse para extraer elementos individuales de una estructura de datos\n",
    "- En Python, toda la indexación parte desde el número 0, como primera posición\n",
    "\n",
    "- En Python, tenemos 2 tipos de índices:\n",
    "    - Positivos: comienzan desde 0; estos índices buscan de izquierda a derecha la posición solicitada\n",
    "    - Negativos: comienzan desde -1; estos índices buscan de derecha a izquierda la posición solicitada"
   ]
  },
  {
   "cell_type": "markdown",
   "id": "f6bc89f6",
   "metadata": {},
   "source": [
    "## Segmentación de Cadenas"
   ]
  },
  {
   "cell_type": "code",
   "execution_count": 3,
   "id": "2dfd379c",
   "metadata": {},
   "outputs": [
    {
     "name": "stdout",
     "output_type": "stream",
     "text": [
      "Curso de Backend Python\n",
      "<class 'str'>\n",
      "C\n",
      "Curso\n",
      "Curso\n",
      "Curso de Backend Python\n",
      "de Ba\n",
      "B\n",
      "P\n"
     ]
    }
   ],
   "source": [
    "# índices positivos\n",
    "my_string = \"Curso de Backend Python\"\n",
    "print(my_string)\n",
    "print(type(my_string))\n",
    "print(my_string[0])\n",
    "print(my_string[0:5]) # 0,1,2,3,4\n",
    "print(my_string[:5]) # 0,1,2,3,4\n",
    "print(my_string[:]) # todos\n",
    "print(my_string[6:11]) # 6,7,8,9,10\n",
    "print(my_string[9])\n",
    "print(my_string[17])"
   ]
  },
  {
   "cell_type": "code",
   "execution_count": 4,
   "id": "bf989398",
   "metadata": {},
   "outputs": [
    {
     "ename": "IndexError",
     "evalue": "string index out of range",
     "output_type": "error",
     "traceback": [
      "\u001b[0;31m---------------------------------------------------------------------------\u001b[0m",
      "\u001b[0;31mIndexError\u001b[0m                                Traceback (most recent call last)",
      "Input \u001b[0;32mIn [4]\u001b[0m, in \u001b[0;36m<cell line: 2>\u001b[0;34m()\u001b[0m\n\u001b[1;32m      1\u001b[0m my_string \u001b[38;5;241m=\u001b[39m \u001b[38;5;124m\"\u001b[39m\u001b[38;5;124mCurso de Backend Python\u001b[39m\u001b[38;5;124m\"\u001b[39m\n\u001b[0;32m----> 2\u001b[0m \u001b[38;5;28mprint\u001b[39m(\u001b[43mmy_string\u001b[49m\u001b[43m[\u001b[49m\u001b[38;5;241;43m9999\u001b[39;49m\u001b[43m]\u001b[49m)\n",
      "\u001b[0;31mIndexError\u001b[0m: string index out of range"
     ]
    }
   ],
   "source": [
    "# error\n",
    "my_string = \"Curso de Backend Python\"\n",
    "print(my_string[9999])"
   ]
  },
  {
   "cell_type": "code",
   "execution_count": 7,
   "id": "ba6a914a",
   "metadata": {},
   "outputs": [
    {
     "name": "stdout",
     "output_type": "stream",
     "text": [
      "23\n",
      "n\n"
     ]
    }
   ],
   "source": [
    "my_string = \"Curso de Backend Python\"\n",
    "print(len(my_string))\n",
    "print(my_string[len(my_string)-1])"
   ]
  },
  {
   "cell_type": "code",
   "execution_count": 8,
   "id": "42811d07",
   "metadata": {},
   "outputs": [
    {
     "name": "stdout",
     "output_type": "stream",
     "text": [
      "n\n",
      "n\n",
      "h\n",
      "ython\n"
     ]
    }
   ],
   "source": [
    "# índices negativos\n",
    "my_string = \"Curso de Backend Python\"\n",
    "print(my_string[len(my_string)-1])\n",
    "print(my_string[-1])\n",
    "print(my_string[-3])\n",
    "print(my_string[-5:])"
   ]
  },
  {
   "cell_type": "markdown",
   "id": "41750c8d",
   "metadata": {},
   "source": [
    "## Concatenación de Cadenas"
   ]
  },
  {
   "cell_type": "code",
   "execution_count": 9,
   "id": "fcd18ca6",
   "metadata": {},
   "outputs": [
    {
     "name": "stdout",
     "output_type": "stream",
     "text": [
      "Curso\n",
      "Backend Python\n",
      "CursoBackend Python\n",
      "Curso Backend Python\n",
      "Curso Backend Python\n"
     ]
    }
   ],
   "source": [
    "my_string_1 = \"Curso\"\n",
    "my_string_2 = \"Backend Python\"\n",
    "print(my_string_1)\n",
    "print(my_string_2)\n",
    "print(my_string_1+my_string_2)\n",
    "print(my_string_1+\" \"+my_string_2)\n",
    "print(\"{} {}\".format(my_string_1, my_string_2))"
   ]
  },
  {
   "cell_type": "code",
   "execution_count": 10,
   "id": "168e9235",
   "metadata": {},
   "outputs": [
    {
     "name": "stdout",
     "output_type": "stream",
     "text": [
      "1020\n",
      "30\n"
     ]
    }
   ],
   "source": [
    "my_string_1 = \"10\"\n",
    "my_string_2 = \"20\"\n",
    "print(eval(my_string_1+my_string_2))\n",
    "print(eval(\"{}+{}\".format(my_string_1,my_string_2))) # \"10+20\""
   ]
  },
  {
   "cell_type": "code",
   "execution_count": 11,
   "id": "031434ab",
   "metadata": {},
   "outputs": [
    {
     "ename": "TypeError",
     "evalue": "unsupported operand type(s) for +: 'int' and 'str'",
     "output_type": "error",
     "traceback": [
      "\u001b[0;31m---------------------------------------------------------------------------\u001b[0m",
      "\u001b[0;31mTypeError\u001b[0m                                 Traceback (most recent call last)",
      "Input \u001b[0;32mIn [11]\u001b[0m, in \u001b[0;36m<cell line: 2>\u001b[0;34m()\u001b[0m\n\u001b[1;32m      1\u001b[0m \u001b[38;5;66;03m# error\u001b[39;00m\n\u001b[0;32m----> 2\u001b[0m \u001b[38;5;241;43m10\u001b[39;49m\u001b[43m \u001b[49m\u001b[38;5;241;43m+\u001b[39;49m\u001b[43m \u001b[49m\u001b[38;5;124;43m\"\u001b[39;49m\u001b[38;5;124;43m10\u001b[39;49m\u001b[38;5;124;43m\"\u001b[39;49m\n",
      "\u001b[0;31mTypeError\u001b[0m: unsupported operand type(s) for +: 'int' and 'str'"
     ]
    }
   ],
   "source": [
    "# error\n",
    "10 + \"10\""
   ]
  },
  {
   "cell_type": "markdown",
   "id": "f74699ec",
   "metadata": {},
   "source": [
    "## Multiplicación de Cadenas"
   ]
  },
  {
   "cell_type": "code",
   "execution_count": 12,
   "id": "d00adbdd",
   "metadata": {},
   "outputs": [
    {
     "name": "stdout",
     "output_type": "stream",
     "text": [
      "cargando ...cargando ...cargando ...cargando ...cargando ...\n"
     ]
    }
   ],
   "source": [
    "my_string = \"cargando ...\"\n",
    "print(my_string*5)"
   ]
  },
  {
   "cell_type": "code",
   "execution_count": 13,
   "id": "6f31d2ea",
   "metadata": {},
   "outputs": [
    {
     "name": "stdout",
     "output_type": "stream",
     "text": [
      "cargando ...\n",
      "cargando ...\n",
      "cargando ...\n",
      "cargando ...\n",
      "cargando ...\n",
      "\n"
     ]
    }
   ],
   "source": [
    "my_string = \"cargando ...\\n\"\n",
    "print(my_string*5)"
   ]
  },
  {
   "cell_type": "code",
   "execution_count": 14,
   "id": "1883ad74",
   "metadata": {},
   "outputs": [
    {
     "name": "stdout",
     "output_type": "stream",
     "text": [
      "cargando ...\n",
      "cargando ...\n",
      "cargando ...\n",
      "cargando ...\n",
      "cargando ...\n",
      "cargando ...\n",
      "cargando ...\n",
      "cargando ...\n",
      "cargando ...\n",
      "cargando ...\n",
      "\n"
     ]
    }
   ],
   "source": [
    "my_string = \"cargando ...\\n\"\n",
    "print(my_string*10)"
   ]
  },
  {
   "cell_type": "code",
   "execution_count": 15,
   "id": "b404bfaa",
   "metadata": {},
   "outputs": [
    {
     "name": "stdout",
     "output_type": "stream",
     "text": [
      "\n"
     ]
    }
   ],
   "source": [
    "# vacio\n",
    "my_string = \"cargando ...\\n\"\n",
    "print(my_string*0)"
   ]
  },
  {
   "cell_type": "code",
   "execution_count": 16,
   "id": "31e68ecc",
   "metadata": {},
   "outputs": [
    {
     "name": "stdout",
     "output_type": "stream",
     "text": [
      "\n"
     ]
    }
   ],
   "source": [
    "# vacio\n",
    "my_string = \"cargando ...\\n\"\n",
    "print(-6*my_string)"
   ]
  },
  {
   "cell_type": "code",
   "execution_count": 17,
   "id": "ae603ad1",
   "metadata": {},
   "outputs": [
    {
     "ename": "TypeError",
     "evalue": "can't multiply sequence by non-int of type 'float'",
     "output_type": "error",
     "traceback": [
      "\u001b[0;31m---------------------------------------------------------------------------\u001b[0m",
      "\u001b[0;31mTypeError\u001b[0m                                 Traceback (most recent call last)",
      "Input \u001b[0;32mIn [17]\u001b[0m, in \u001b[0;36m<cell line: 3>\u001b[0;34m()\u001b[0m\n\u001b[1;32m      1\u001b[0m \u001b[38;5;66;03m# error\u001b[39;00m\n\u001b[1;32m      2\u001b[0m my_string \u001b[38;5;241m=\u001b[39m \u001b[38;5;124m\"\u001b[39m\u001b[38;5;124mcargando ...\u001b[39m\u001b[38;5;130;01m\\n\u001b[39;00m\u001b[38;5;124m\"\u001b[39m\n\u001b[0;32m----> 3\u001b[0m \u001b[38;5;28mprint\u001b[39m(\u001b[38;5;241;43m5.0\u001b[39;49m\u001b[38;5;241;43m*\u001b[39;49m\u001b[43mmy_string\u001b[49m)\n",
      "\u001b[0;31mTypeError\u001b[0m: can't multiply sequence by non-int of type 'float'"
     ]
    }
   ],
   "source": [
    "# error\n",
    "my_string = \"cargando ...\\n\"\n",
    "print(5.0*my_string)"
   ]
  },
  {
   "cell_type": "markdown",
   "id": "b8c2e313",
   "metadata": {},
   "source": [
    "## Comparación de Cadenas"
   ]
  },
  {
   "cell_type": "code",
   "execution_count": 18,
   "id": "1107acb8",
   "metadata": {},
   "outputs": [
    {
     "name": "stdout",
     "output_type": "stream",
     "text": [
      "False\n"
     ]
    }
   ],
   "source": [
    "my_string_1 = \"Prueba\"\n",
    "my_string_2 = \"prueba\"\n",
    "print(my_string_1 == my_string_2)"
   ]
  },
  {
   "cell_type": "code",
   "execution_count": 19,
   "id": "916fd1d0",
   "metadata": {},
   "outputs": [
    {
     "name": "stdout",
     "output_type": "stream",
     "text": [
      "True\n"
     ]
    }
   ],
   "source": [
    "my_string_1 = \"Prueba\"\n",
    "my_string_2 = \"prueba\"\n",
    "print(my_string_1 != my_string_2)"
   ]
  },
  {
   "cell_type": "code",
   "execution_count": 20,
   "id": "9fb3f7e1",
   "metadata": {},
   "outputs": [
    {
     "name": "stdout",
     "output_type": "stream",
     "text": [
      "True\n"
     ]
    }
   ],
   "source": [
    "my_string_1 = \"Prueba\"\n",
    "my_string_2 = \"Prueba\"\n",
    "print(my_string_1 == my_string_2)"
   ]
  },
  {
   "cell_type": "code",
   "execution_count": 21,
   "id": "4a74ba78",
   "metadata": {},
   "outputs": [
    {
     "name": "stdout",
     "output_type": "stream",
     "text": [
      "False\n"
     ]
    }
   ],
   "source": [
    "my_string_1 = \"Prueba\"\n",
    "my_string_2 = \"Prueba\"\n",
    "print(my_string_1 != my_string_2)"
   ]
  },
  {
   "cell_type": "markdown",
   "id": "0ed18949",
   "metadata": {},
   "source": [
    "# Funciones de Cadenas"
   ]
  },
  {
   "cell_type": "markdown",
   "id": "d7fcc10e",
   "metadata": {},
   "source": [
    "### split\n",
    "Divide la cadena basándose en el separador especificado"
   ]
  },
  {
   "cell_type": "code",
   "execution_count": 22,
   "id": "061eeb7e",
   "metadata": {},
   "outputs": [
    {
     "name": "stdout",
     "output_type": "stream",
     "text": [
      "['El', 'Curso', 'de', 'Backend', 'Python', 'de', 'EBAC', 'te', 'lleva', 'de', 'la', 'mano', 'para', 'que', 'aprendas', 'a', 'programar']\n"
     ]
    }
   ],
   "source": [
    "my_string = \"El Curso de Backend Python de EBAC te lleva de la mano para que aprendas a programar\"\n",
    "\n",
    "split_result = my_string.split(\" \")\n",
    "\n",
    "print(split_result)"
   ]
  },
  {
   "cell_type": "code",
   "execution_count": 23,
   "id": "0d0a299d",
   "metadata": {},
   "outputs": [
    {
     "name": "stdout",
     "output_type": "stream",
     "text": [
      "user123\n",
      "gmail.com\n"
     ]
    }
   ],
   "source": [
    "my_string = \"user123@gmail.com\"\n",
    "\n",
    "username, domain = my_string.split(\"@\")\n",
    "\n",
    "print(username)\n",
    "print(domain)"
   ]
  },
  {
   "cell_type": "code",
   "execution_count": 25,
   "id": "20000f54",
   "metadata": {},
   "outputs": [
    {
     "name": "stdout",
     "output_type": "stream",
     "text": [
      "date:  2022-09-28\n",
      "log_level:  error\n",
      "message:  Este es un mensaje de error\n",
      "date:  2022-09-27\n",
      "log_level:  warning\n",
      "message:  Este es un mensaje de advertencia\n",
      "date:  2022-09-25\n",
      "log_level:  info\n",
      "message:  Este es un mensaje informativo\n"
     ]
    }
   ],
   "source": [
    "my_string = \"\"\"2022-09-28|error|Este es un mensaje de error\n",
    "2022-09-27|warning|Este es un mensaje de advertencia\n",
    "2022-09-25|info|Este es un mensaje informativo\"\"\"\n",
    "\n",
    "logs = my_string.split(\"\\n\")\n",
    "for log in logs:\n",
    "    date, log_level, message = log.split(\"|\")\n",
    "    print(\"date: \", date)\n",
    "    print(\"log_level: \", log_level)\n",
    "    print(\"message: \", message)"
   ]
  },
  {
   "cell_type": "markdown",
   "id": "be3802bd",
   "metadata": {},
   "source": [
    "### index / find\n",
    "Busca la primer posición de la subcadena solicitada en la cadena deseada"
   ]
  },
  {
   "cell_type": "code",
   "execution_count": 26,
   "id": "387d9324",
   "metadata": {},
   "outputs": [
    {
     "name": "stdout",
     "output_type": "stream",
     "text": [
      "La primera posición de 'Python' en my_string es:  20\n",
      "La primera posición de 'Python' en my_string es:  20\n"
     ]
    }
   ],
   "source": [
    "my_string = \"El Curso de Backend Python de EBAC te lleva de la mano para que aprendas a programar\"\n",
    "\n",
    "print(\"La primera posición de 'Python' en my_string es: \", my_string.index(\"Python\"))\n",
    "print(\"La primera posición de 'Python' en my_string es: \", my_string.find(\"Python\"))"
   ]
  },
  {
   "cell_type": "code",
   "execution_count": 27,
   "id": "8e3c026a",
   "metadata": {},
   "outputs": [
    {
     "name": "stdout",
     "output_type": "stream",
     "text": [
      "La primera posición de 'Python' en my_string es:  12\n",
      "La primera posición de 'Python' en my_string es:  12\n"
     ]
    }
   ],
   "source": [
    "my_string = \"El Curso de Backend Python de EBAC te lleva de la mano para que aprendas a programar\"\n",
    "\n",
    "print(\"La primera posición de 'Python' en my_string es: \", my_string.index(\"Backend\"))\n",
    "print(\"La primera posición de 'Python' en my_string es: \", my_string.find(\"Backend\"))"
   ]
  },
  {
   "cell_type": "code",
   "execution_count": 28,
   "id": "45e86a7f",
   "metadata": {},
   "outputs": [
    {
     "name": "stdout",
     "output_type": "stream",
     "text": [
      "La primera posición de 'Python' en my_string es:  0\n",
      "La primera posición de 'Python' en my_string es:  0\n"
     ]
    }
   ],
   "source": [
    "my_string = \"El Curso de Backend Python de EBAC te lleva de la mano para que aprendas a programar\"\n",
    "\n",
    "print(\"La primera posición de 'Python' en my_string es: \", my_string.index(\"E\"))\n",
    "print(\"La primera posición de 'Python' en my_string es: \", my_string.find(\"E\"))"
   ]
  },
  {
   "cell_type": "markdown",
   "id": "9fdac9b2",
   "metadata": {},
   "source": [
    "### count\n",
    "Cuenta el número de apariciones de la subcadena solicitada en la cadena completa"
   ]
  },
  {
   "cell_type": "code",
   "execution_count": 29,
   "id": "34687397",
   "metadata": {},
   "outputs": [
    {
     "name": "stdout",
     "output_type": "stream",
     "text": [
      "La cantidad de 'E' en my_string es:  2\n"
     ]
    }
   ],
   "source": [
    "my_string = \"El Curso de Backend Python de EBAC te lleva de la mano para que aprendas a programar\"\n",
    "\n",
    "print(\"La cantidad de 'E' en my_string es: \", my_string.count(\"E\"))"
   ]
  },
  {
   "cell_type": "code",
   "execution_count": 30,
   "id": "8229bac9",
   "metadata": {},
   "outputs": [
    {
     "name": "stdout",
     "output_type": "stream",
     "text": [
      "La cantidad de 'de' en my_string es:  3\n"
     ]
    }
   ],
   "source": [
    "my_string = \"El Curso de Backend Python de EBAC te lleva de la mano para que aprendas a programar\"\n",
    "\n",
    "print(\"La cantidad de 'de' en my_string es: \", my_string.count(\"de\"))"
   ]
  },
  {
   "cell_type": "markdown",
   "id": "930650f0",
   "metadata": {},
   "source": [
    "### len\n",
    "Cuenta la longitud, o cuántos caracteres hay"
   ]
  },
  {
   "cell_type": "code",
   "execution_count": 31,
   "id": "f829daa9",
   "metadata": {},
   "outputs": [
    {
     "name": "stdout",
     "output_type": "stream",
     "text": [
      "La cantidad de caracteres en my_string es:  84\n"
     ]
    }
   ],
   "source": [
    "my_string = \"El Curso de Backend Python de EBAC te lleva de la mano para que aprendas a programar\"\n",
    "\n",
    "print(\"La cantidad de caracteres en my_string es: \", len(my_string))"
   ]
  },
  {
   "cell_type": "code",
   "execution_count": 32,
   "id": "cdda63d0",
   "metadata": {},
   "outputs": [
    {
     "name": "stdout",
     "output_type": "stream",
     "text": [
      "La cantidad de caracteres en my_string es:  14\n"
     ]
    }
   ],
   "source": [
    "my_string = \"Backend Python\"\n",
    "\n",
    "print(\"La cantidad de caracteres en my_string es: \", len(my_string))"
   ]
  },
  {
   "cell_type": "markdown",
   "id": "eb61e645",
   "metadata": {},
   "source": [
    "### strip\n",
    "Remueve espacios"
   ]
  },
  {
   "cell_type": "code",
   "execution_count": 34,
   "id": "97b18011",
   "metadata": {},
   "outputs": [
    {
     "name": "stdout",
     "output_type": "stream",
     "text": [
      "[    Backend Python      ]\n",
      "[Backend Python]\n"
     ]
    }
   ],
   "source": [
    "my_string = \"    Backend Python      \"\n",
    "print(\"[{}]\".format(my_string))\n",
    "print(\"[{}]\".format(my_string.strip()))"
   ]
  },
  {
   "cell_type": "code",
   "execution_count": 35,
   "id": "aedf1233",
   "metadata": {},
   "outputs": [
    {
     "name": "stdout",
     "output_type": "stream",
     "text": [
      "[    \n",
      "\n",
      "\t\r",
      "Backend Python\n",
      "\n",
      "\t\r",
      "      ]\n",
      "[Backend Python]\n"
     ]
    }
   ],
   "source": [
    "my_string = \"    \\n\\n\\t\\rBackend Python\\n\\n\\t\\r      \"\n",
    "print(\"[{}]\".format(my_string))\n",
    "print(\"[{}]\".format(my_string.strip()))"
   ]
  },
  {
   "cell_type": "code",
   "execution_count": 37,
   "id": "e8c0a245",
   "metadata": {},
   "outputs": [
    {
     "name": "stdout",
     "output_type": "stream",
     "text": [
      "[Backend Python]\n",
      "[Backend Pytho]\n"
     ]
    }
   ],
   "source": [
    "my_string = \"Backend Python\"\n",
    "print(\"[{}]\".format(my_string))\n",
    "print(\"[{}]\".format(my_string.strip(\"n\")))"
   ]
  },
  {
   "cell_type": "markdown",
   "id": "4a1d653a",
   "metadata": {},
   "source": [
    "### isdecimal / isnumeric / isdigit\n",
    "Analiza si la cadena contiene solamente números/enteros"
   ]
  },
  {
   "cell_type": "code",
   "execution_count": 38,
   "id": "94d43b86",
   "metadata": {},
   "outputs": [
    {
     "name": "stdout",
     "output_type": "stream",
     "text": [
      "True\n",
      "True\n",
      "True\n"
     ]
    }
   ],
   "source": [
    "my_string = \"1298751351246131\"\n",
    "print(my_string.isdecimal())\n",
    "print(my_string.isnumeric())\n",
    "print(my_string.isdigit())"
   ]
  },
  {
   "cell_type": "code",
   "execution_count": 39,
   "id": "680c1878",
   "metadata": {},
   "outputs": [
    {
     "name": "stdout",
     "output_type": "stream",
     "text": [
      "False\n",
      "False\n",
      "False\n"
     ]
    }
   ],
   "source": [
    "my_string = \"129875.1351246131\"\n",
    "print(my_string.isdecimal())\n",
    "print(my_string.isnumeric())\n",
    "print(my_string.isdigit())"
   ]
  },
  {
   "cell_type": "code",
   "execution_count": 40,
   "id": "bd69bb58",
   "metadata": {},
   "outputs": [
    {
     "name": "stdout",
     "output_type": "stream",
     "text": [
      "False\n",
      "False\n",
      "False\n"
     ]
    }
   ],
   "source": [
    "my_string = \"1298751351246131test\"\n",
    "print(my_string.isdecimal())\n",
    "print(my_string.isnumeric())\n",
    "print(my_string.isdigit())"
   ]
  },
  {
   "cell_type": "code",
   "execution_count": 41,
   "id": "5b59bc75",
   "metadata": {},
   "outputs": [
    {
     "name": "stdout",
     "output_type": "stream",
     "text": [
      "False\n",
      "False\n",
      "False\n"
     ]
    }
   ],
   "source": [
    "my_string = \"1298751 351246131\"\n",
    "print(my_string.isdecimal())\n",
    "print(my_string.isnumeric())\n",
    "print(my_string.isdigit())"
   ]
  },
  {
   "cell_type": "markdown",
   "id": "603c7d33",
   "metadata": {},
   "source": [
    "### isalnum\n",
    "Analiza si todos los caracteres son alfanuméricos (letras o números)"
   ]
  },
  {
   "cell_type": "code",
   "execution_count": 42,
   "id": "ce0ecda9",
   "metadata": {},
   "outputs": [
    {
     "name": "stdout",
     "output_type": "stream",
     "text": [
      "True\n"
     ]
    }
   ],
   "source": [
    "my_string = \"1298751351246131\"\n",
    "print(my_string.isalnum())"
   ]
  },
  {
   "cell_type": "code",
   "execution_count": 43,
   "id": "7019d533",
   "metadata": {},
   "outputs": [
    {
     "name": "stdout",
     "output_type": "stream",
     "text": [
      "False\n"
     ]
    }
   ],
   "source": [
    "my_string = \"129875.1351246131\"\n",
    "print(my_string.isalnum())"
   ]
  },
  {
   "cell_type": "code",
   "execution_count": 44,
   "id": "6f5a6bd0",
   "metadata": {},
   "outputs": [
    {
     "name": "stdout",
     "output_type": "stream",
     "text": [
      "True\n"
     ]
    }
   ],
   "source": [
    "my_string = \"1298751351246131test\"\n",
    "print(my_string.isalnum())"
   ]
  },
  {
   "cell_type": "code",
   "execution_count": 45,
   "id": "642cba21",
   "metadata": {},
   "outputs": [
    {
     "name": "stdout",
     "output_type": "stream",
     "text": [
      "False\n"
     ]
    }
   ],
   "source": [
    "my_string = \"1298751 351246131\"\n",
    "print(my_string.isalnum())"
   ]
  },
  {
   "cell_type": "markdown",
   "id": "6d4d3622",
   "metadata": {},
   "source": [
    "### isupper\n",
    "Analiza si todas las letras presentes en la cadena son mayúsculas"
   ]
  },
  {
   "cell_type": "code",
   "execution_count": 46,
   "id": "76fb1ee6",
   "metadata": {},
   "outputs": [
    {
     "name": "stdout",
     "output_type": "stream",
     "text": [
      "False\n"
     ]
    }
   ],
   "source": [
    "my_string = \"test\"\n",
    "print(my_string.isupper())"
   ]
  },
  {
   "cell_type": "code",
   "execution_count": 47,
   "id": "30302046",
   "metadata": {},
   "outputs": [
    {
     "name": "stdout",
     "output_type": "stream",
     "text": [
      "True\n"
     ]
    }
   ],
   "source": [
    "my_string = \"TEST\"\n",
    "print(my_string.isupper())"
   ]
  },
  {
   "cell_type": "code",
   "execution_count": 48,
   "id": "6cb89cd9",
   "metadata": {},
   "outputs": [
    {
     "name": "stdout",
     "output_type": "stream",
     "text": [
      "False\n"
     ]
    }
   ],
   "source": [
    "my_string = \"Test\"\n",
    "print(my_string.isupper())"
   ]
  },
  {
   "cell_type": "code",
   "execution_count": 49,
   "id": "98db0d0b",
   "metadata": {},
   "outputs": [
    {
     "name": "stdout",
     "output_type": "stream",
     "text": [
      "True\n"
     ]
    }
   ],
   "source": [
    "my_string = \"TEST12345\"\n",
    "print(my_string.isupper())"
   ]
  },
  {
   "cell_type": "markdown",
   "id": "bae6eb1c",
   "metadata": {},
   "source": [
    "### islower\n",
    "Analiza si todas las letras presentes en la cadena son minúsculas"
   ]
  },
  {
   "cell_type": "code",
   "execution_count": 50,
   "id": "42c8e193",
   "metadata": {},
   "outputs": [
    {
     "name": "stdout",
     "output_type": "stream",
     "text": [
      "True\n"
     ]
    }
   ],
   "source": [
    "my_string = \"test\"\n",
    "print(my_string.islower())"
   ]
  },
  {
   "cell_type": "code",
   "execution_count": 51,
   "id": "064fa123",
   "metadata": {},
   "outputs": [
    {
     "name": "stdout",
     "output_type": "stream",
     "text": [
      "False\n"
     ]
    }
   ],
   "source": [
    "my_string = \"TEST\"\n",
    "print(my_string.islower())"
   ]
  },
  {
   "cell_type": "code",
   "execution_count": 52,
   "id": "41a5b8b6",
   "metadata": {},
   "outputs": [
    {
     "name": "stdout",
     "output_type": "stream",
     "text": [
      "False\n"
     ]
    }
   ],
   "source": [
    "my_string = \"Test\"\n",
    "print(my_string.islower())"
   ]
  },
  {
   "cell_type": "code",
   "execution_count": 53,
   "id": "80402143",
   "metadata": {},
   "outputs": [
    {
     "name": "stdout",
     "output_type": "stream",
     "text": [
      "False\n"
     ]
    }
   ],
   "source": [
    "my_string = \"TEST12345\"\n",
    "print(my_string.islower())"
   ]
  },
  {
   "cell_type": "code",
   "execution_count": 54,
   "id": "68dee8d1",
   "metadata": {},
   "outputs": [
    {
     "name": "stdout",
     "output_type": "stream",
     "text": [
      "True\n"
     ]
    }
   ],
   "source": [
    "my_string = \"test12345\"\n",
    "print(my_string.islower())"
   ]
  },
  {
   "cell_type": "markdown",
   "id": "2c061649",
   "metadata": {},
   "source": [
    "### join\n",
    "Crea una cadena de una lista, usando el separador especificado"
   ]
  },
  {
   "cell_type": "code",
   "execution_count": 55,
   "id": "e2c79334",
   "metadata": {},
   "outputs": [
    {
     "name": "stdout",
     "output_type": "stream",
     "text": [
      "132|22|389\n"
     ]
    }
   ],
   "source": [
    "num_list = [\"132\", \"22\", \"389\"] # list\n",
    "separator = \"|\"\n",
    "print(separator.join(num_list))"
   ]
  },
  {
   "cell_type": "code",
   "execution_count": 56,
   "id": "70f11867",
   "metadata": {},
   "outputs": [
    {
     "name": "stdout",
     "output_type": "stream",
     "text": [
      "132-22-389\n"
     ]
    }
   ],
   "source": [
    "num_list = [\"132\", \"22\", \"389\"] # list\n",
    "separator = \"-\"\n",
    "print(separator.join(num_list))"
   ]
  },
  {
   "cell_type": "code",
   "execution_count": 57,
   "id": "151cfbb3",
   "metadata": {},
   "outputs": [
    {
     "name": "stdout",
     "output_type": "stream",
     "text": [
      "132,22,389\n"
     ]
    }
   ],
   "source": [
    "num_list = [\"132\", \"22\", \"389\"] # list\n",
    "separator = \",\"\n",
    "print(separator.join(num_list))"
   ]
  },
  {
   "cell_type": "markdown",
   "id": "2a347296",
   "metadata": {},
   "source": [
    "### capitalize\n",
    "Hace mayúscula la primer letra"
   ]
  },
  {
   "cell_type": "code",
   "execution_count": 58,
   "id": "7a17ebf1",
   "metadata": {},
   "outputs": [
    {
     "name": "stdout",
     "output_type": "stream",
     "text": [
      "Backend python\n"
     ]
    }
   ],
   "source": [
    "my_string = \"backend python\"\n",
    "print(my_string.capitalize())"
   ]
  },
  {
   "cell_type": "code",
   "execution_count": 59,
   "id": "3f67a528",
   "metadata": {},
   "outputs": [
    {
     "name": "stdout",
     "output_type": "stream",
     "text": [
      "Probando las funciones\n"
     ]
    }
   ],
   "source": [
    "my_string = \"probando las funciones\"\n",
    "print(my_string.capitalize())"
   ]
  },
  {
   "cell_type": "code",
   "execution_count": 60,
   "id": "c56636ac",
   "metadata": {},
   "outputs": [
    {
     "name": "stdout",
     "output_type": "stream",
     "text": [
      "Probando las funciones\n"
     ]
    }
   ],
   "source": [
    "my_string = \"Probando las funciones\"\n",
    "print(my_string.capitalize())"
   ]
  },
  {
   "cell_type": "markdown",
   "id": "6e0ab69b",
   "metadata": {},
   "source": [
    "### format\n",
    "Nos ayuda a configurar valores dentro de una cadena que es nuestro molde"
   ]
  },
  {
   "cell_type": "code",
   "execution_count": 61,
   "id": "3563890c",
   "metadata": {},
   "outputs": [
    {
     "name": "stdout",
     "output_type": "stream",
     "text": [
      "44 es el valor\n",
      "23 es el valor\n",
      "7 es el valor\n"
     ]
    }
   ],
   "source": [
    "my_string = \"{} es el valor\"\n",
    "print(my_string.format(\"44\"))\n",
    "print(my_string.format(\"23\"))\n",
    "print(my_string.format(\"7\"))"
   ]
  },
  {
   "cell_type": "code",
   "execution_count": 62,
   "id": "87d43ab6",
   "metadata": {},
   "outputs": [
    {
     "name": "stdout",
     "output_type": "stream",
     "text": [
      "año: 1995 hora: 9:40\n",
      "año: 2000 hora: 14:30\n",
      "año: 2022 hora: 3:21\n"
     ]
    }
   ],
   "source": [
    "my_string = \"año: {} hora: {}\"\n",
    "print(my_string.format(\"1995\", \"9:40\"))\n",
    "print(my_string.format(\"2000\", \"14:30\"))\n",
    "print(my_string.format(\"2022\", \"3:21\"))"
   ]
  },
  {
   "cell_type": "code",
   "execution_count": 63,
   "id": "90096dd1",
   "metadata": {},
   "outputs": [
    {
     "name": "stdout",
     "output_type": "stream",
     "text": [
      "hora: 9:40 año: 1995 \n",
      "hora: 14:30 año: 2000 \n",
      "hora: 3:21 año: 2022 \n"
     ]
    }
   ],
   "source": [
    "my_string = \"hora: {1} año: {0} \"\n",
    "print(my_string.format(\"1995\", \"9:40\"))\n",
    "print(my_string.format(\"2000\", \"14:30\"))\n",
    "print(my_string.format(\"2022\", \"3:21\"))"
   ]
  },
  {
   "cell_type": "markdown",
   "id": "e8645224",
   "metadata": {},
   "source": [
    "### center\n",
    "Centro el texto dada cierta longitud"
   ]
  },
  {
   "cell_type": "code",
   "execution_count": 64,
   "id": "02f76592",
   "metadata": {},
   "outputs": [
    {
     "name": "stdout",
     "output_type": "stream",
     "text": [
      "[ Probando funciones ]\n",
      "[      Probando funciones      ]\n",
      "[           Probando funciones           ]\n",
      "[                Probando funciones                ]\n"
     ]
    }
   ],
   "source": [
    "my_string = \"Probando funciones\"\n",
    "print(\"[{}]\".format(my_string.center(20)))\n",
    "print(\"[{}]\".format(my_string.center(30)))\n",
    "print(\"[{}]\".format(my_string.center(40)))\n",
    "print(\"[{}]\".format(my_string.center(50)))"
   ]
  },
  {
   "cell_type": "markdown",
   "id": "8cf3c0a3",
   "metadata": {},
   "source": [
    "### endswith\n",
    "Evalúa si la cadena termina con el caracter, palabra o subcadena solicitada"
   ]
  },
  {
   "cell_type": "code",
   "execution_count": 65,
   "id": "04064a6d",
   "metadata": {},
   "outputs": [
    {
     "name": "stdout",
     "output_type": "stream",
     "text": [
      "True\n"
     ]
    }
   ],
   "source": [
    "my_string = \"Probando funciones\"\n",
    "print(my_string.endswith(\"s\"))"
   ]
  },
  {
   "cell_type": "code",
   "execution_count": 66,
   "id": "4a6f60ed",
   "metadata": {},
   "outputs": [
    {
     "name": "stdout",
     "output_type": "stream",
     "text": [
      "True\n"
     ]
    }
   ],
   "source": [
    "my_string = \"Probando funciones\"\n",
    "print(my_string.endswith(\"funciones\"))"
   ]
  },
  {
   "cell_type": "code",
   "execution_count": 67,
   "id": "e58f0453",
   "metadata": {},
   "outputs": [
    {
     "name": "stdout",
     "output_type": "stream",
     "text": [
      "True\n"
     ]
    }
   ],
   "source": [
    "my_string = \"Probando funciones\"\n",
    "print(my_string.endswith(\"ando funciones\"))"
   ]
  },
  {
   "cell_type": "code",
   "execution_count": 68,
   "id": "bd1145c1",
   "metadata": {},
   "outputs": [
    {
     "name": "stdout",
     "output_type": "stream",
     "text": [
      "False\n"
     ]
    }
   ],
   "source": [
    "my_string = \"Probando funciones\"\n",
    "print(my_string.endswith(\"Probando\"))"
   ]
  },
  {
   "cell_type": "markdown",
   "id": "db636d33",
   "metadata": {},
   "source": [
    "### swapcase\n",
    "Invierte mayúsculas y minúsculas"
   ]
  },
  {
   "cell_type": "code",
   "execution_count": 69,
   "id": "aaf9552d",
   "metadata": {},
   "outputs": [
    {
     "name": "stdout",
     "output_type": "stream",
     "text": [
      "pROBANDO FUNCIONES\n"
     ]
    }
   ],
   "source": [
    "my_string = \"Probando funciones\"\n",
    "print(my_string.swapcase())"
   ]
  },
  {
   "cell_type": "code",
   "execution_count": 70,
   "id": "5ff25796",
   "metadata": {},
   "outputs": [
    {
     "name": "stdout",
     "output_type": "stream",
     "text": [
      "probando FUNCIONES\n"
     ]
    }
   ],
   "source": [
    "my_string = \"PROBANDO funciones\"\n",
    "print(my_string.swapcase())"
   ]
  },
  {
   "cell_type": "code",
   "execution_count": 71,
   "id": "68ed70b2",
   "metadata": {},
   "outputs": [
    {
     "name": "stdout",
     "output_type": "stream",
     "text": [
      "pROBANDO fUNCIONES\n"
     ]
    }
   ],
   "source": [
    "my_string = \"Probando Funciones\"\n",
    "print(my_string.swapcase())"
   ]
  },
  {
   "cell_type": "markdown",
   "id": "3c9f1035",
   "metadata": {},
   "source": [
    "### replace\n",
    "Remplaza una subcadena por otra subcadena, dentro de una cadena"
   ]
  },
  {
   "cell_type": "code",
   "execution_count": 72,
   "id": "2f161478",
   "metadata": {},
   "outputs": [
    {
     "name": "stdout",
     "output_type": "stream",
     "text": [
      "Usando funciones\n"
     ]
    }
   ],
   "source": [
    "my_string = \"Probando funciones\"\n",
    "print(my_string.replace(\"Probando\", \"Usando\"))"
   ]
  },
  {
   "cell_type": "code",
   "execution_count": 73,
   "id": "b6ad35f1",
   "metadata": {},
   "outputs": [
    {
     "name": "stdout",
     "output_type": "stream",
     "text": [
      "Probando\n",
      "funciones\n"
     ]
    }
   ],
   "source": [
    "my_string = \"Probando funciones\"\n",
    "print(my_string.replace(\" \", \"\\n\"))"
   ]
  },
  {
   "cell_type": "code",
   "execution_count": 74,
   "id": "7ac2a85d",
   "metadata": {},
   "outputs": [
    {
     "name": "stdout",
     "output_type": "stream",
     "text": [
      "PrObandO funciOnes\n"
     ]
    }
   ],
   "source": [
    "my_string = \"Probando funciones\"\n",
    "print(my_string.replace(\"o\", \"O\"))"
   ]
  },
  {
   "cell_type": "code",
   "execution_count": 75,
   "id": "6f2acd90",
   "metadata": {},
   "outputs": [
    {
     "name": "stdout",
     "output_type": "stream",
     "text": [
      "Probando funciones\n"
     ]
    }
   ],
   "source": [
    "my_string = \"Probando funciones\"\n",
    "print(my_string.replace(\"y\", \"O\"))"
   ]
  },
  {
   "cell_type": "markdown",
   "id": "fde38bdb",
   "metadata": {},
   "source": [
    "### Formateo de cadenas y datetime"
   ]
  },
  {
   "cell_type": "code",
   "execution_count": 76,
   "id": "ec4b1de2",
   "metadata": {},
   "outputs": [
    {
     "name": "stdout",
     "output_type": "stream",
     "text": [
      "2022-09-28 12:12:51.745386\n"
     ]
    }
   ],
   "source": [
    "from datetime import datetime\n",
    "now = datetime.now()\n",
    "\n",
    "print(now)"
   ]
  },
  {
   "cell_type": "code",
   "execution_count": 77,
   "id": "80a50288",
   "metadata": {},
   "outputs": [
    {
     "name": "stdout",
     "output_type": "stream",
     "text": [
      "Año:  2022\n",
      "Mes:  09\n",
      "Día:  28\n",
      "Hora:  12:12:51\n"
     ]
    }
   ],
   "source": [
    "year = now.strftime(\"%Y\")\n",
    "month = now.strftime(\"%m\")\n",
    "day = now.strftime(\"%d\")\n",
    "time = now.strftime(\"%H:%M:%S\")\n",
    "print(\"Año: \", year)\n",
    "print(\"Mes: \", month)\n",
    "print(\"Día: \", day)\n",
    "print(\"Hora: \", time)"
   ]
  },
  {
   "cell_type": "markdown",
   "id": "e4045242",
   "metadata": {},
   "source": [
    "### reverse / reversa\n",
    "Invertir una cadena"
   ]
  },
  {
   "cell_type": "code",
   "execution_count": 78,
   "id": "d2dfc230",
   "metadata": {},
   "outputs": [
    {
     "name": "stdout",
     "output_type": "stream",
     "text": [
      "senoicnuf odnaborP\n"
     ]
    }
   ],
   "source": [
    "my_string = \"Probando funciones\"\n",
    "print(my_string [::-1])"
   ]
  },
  {
   "cell_type": "code",
   "execution_count": null,
   "id": "b0fba8c0",
   "metadata": {},
   "outputs": [],
   "source": []
  }
 ],
 "metadata": {
  "kernelspec": {
   "display_name": "Python 3 (ipykernel)",
   "language": "python",
   "name": "python3"
  },
  "language_info": {
   "codemirror_mode": {
    "name": "ipython",
    "version": 3
   },
   "file_extension": ".py",
   "mimetype": "text/x-python",
   "name": "python",
   "nbconvert_exporter": "python",
   "pygments_lexer": "ipython3",
   "version": "3.9.12"
  }
 },
 "nbformat": 4,
 "nbformat_minor": 5
}
