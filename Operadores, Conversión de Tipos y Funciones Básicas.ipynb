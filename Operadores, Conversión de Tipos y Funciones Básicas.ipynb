{
 "cells": [
  {
   "cell_type": "markdown",
   "id": "679d9629",
   "metadata": {},
   "source": [
    "# Operadores y Tipos de Operadores"
   ]
  },
  {
   "cell_type": "markdown",
   "id": "9913cdad",
   "metadata": {},
   "source": [
    "¿Qué son los operadores?\n",
    "- Son un conjunto de símbolos para un lenguaje de programación\n",
    "- Pueden decirle al compilador o intérprete que ejecute ciertas acciones para producir un resultado final\n",
    "- Pueden ser usados para aplicar operaciones en variables o valores\n",
    "- Pueden ser clasificados según su tipo (aritméticos, relacionales, de asignación, lógicos, afiliación y de identidad)"
   ]
  },
  {
   "cell_type": "markdown",
   "id": "8e3f1b0a",
   "metadata": {},
   "source": [
    "Tipos de Operadores:\n",
    "- Aritméticos\n",
    "- Relacionales\n",
    "- De Asignación\n",
    "- Lógicos\n",
    "- De Afiliación\n",
    "- De Identidad"
   ]
  },
  {
   "cell_type": "markdown",
   "id": "88bc2655",
   "metadata": {},
   "source": [
    "### Operadores aritméticos\n",
    "- \"+\": suma\n",
    "- \"-\": resta\n",
    "- \"*\": multiplicación\n",
    "- \"/\": división\n",
    "- \"//\": división con redondeo hacia abajo\n",
    "- \"**\": exponente"
   ]
  },
  {
   "cell_type": "code",
   "execution_count": 1,
   "id": "09c38fd6",
   "metadata": {},
   "outputs": [
    {
     "name": "stdout",
     "output_type": "stream",
     "text": [
      "El resultado de num_1+num_2 es: 800\n"
     ]
    }
   ],
   "source": [
    "# \"+\": suma\n",
    "num_1 = 500\n",
    "num_2 = 300\n",
    "print(\"El resultado de num_1+num_2 es:\",num_1+num_2)"
   ]
  },
  {
   "cell_type": "code",
   "execution_count": 2,
   "id": "f7d0141d",
   "metadata": {},
   "outputs": [
    {
     "name": "stdout",
     "output_type": "stream",
     "text": [
      "El resultado de num_1+num_2 es: 1100\n"
     ]
    }
   ],
   "source": [
    "# \"+\": suma\n",
    "num_1 = 200\n",
    "num_2 = 900\n",
    "print(\"El resultado de num_1+num_2 es:\",num_1+num_2)"
   ]
  },
  {
   "cell_type": "code",
   "execution_count": 3,
   "id": "b7432605",
   "metadata": {},
   "outputs": [
    {
     "name": "stdout",
     "output_type": "stream",
     "text": [
      "El resultado de num_1-num_2 es: 200\n"
     ]
    }
   ],
   "source": [
    "# \"-\": resta\n",
    "num_1 = 500\n",
    "num_2 = 300\n",
    "print(\"El resultado de num_1-num_2 es:\",num_1-num_2)"
   ]
  },
  {
   "cell_type": "code",
   "execution_count": 4,
   "id": "d6ea7ea5",
   "metadata": {},
   "outputs": [
    {
     "name": "stdout",
     "output_type": "stream",
     "text": [
      "El resultado de num_1-num_2 es: -700\n"
     ]
    }
   ],
   "source": [
    "# \"-\": resta\n",
    "num_1 = 200\n",
    "num_2 = 900\n",
    "print(\"El resultado de num_1-num_2 es:\",num_1-num_2)"
   ]
  },
  {
   "cell_type": "code",
   "execution_count": 5,
   "id": "de380ffe",
   "metadata": {},
   "outputs": [
    {
     "name": "stdout",
     "output_type": "stream",
     "text": [
      "El resultado de num_1*num_2 es: 150000\n"
     ]
    }
   ],
   "source": [
    "# \"*\": multiplicación\n",
    "num_1 = 500\n",
    "num_2 = 300\n",
    "print(\"El resultado de num_1*num_2 es:\",num_1*num_2)"
   ]
  },
  {
   "cell_type": "code",
   "execution_count": 6,
   "id": "32c8a3c9",
   "metadata": {},
   "outputs": [
    {
     "name": "stdout",
     "output_type": "stream",
     "text": [
      "El resultado de num_1*num_2 es: 180000\n"
     ]
    }
   ],
   "source": [
    "# \"*\": multiplicación\n",
    "num_1 = 200\n",
    "num_2 = 900\n",
    "print(\"El resultado de num_1*num_2 es:\",num_1*num_2)"
   ]
  },
  {
   "cell_type": "code",
   "execution_count": 7,
   "id": "30137f01",
   "metadata": {},
   "outputs": [
    {
     "name": "stdout",
     "output_type": "stream",
     "text": [
      "El resultado de num_1/num_2 es: 1.6666666666666667\n"
     ]
    }
   ],
   "source": [
    "# \"/\": división\n",
    "num_1 = 500\n",
    "num_2 = 300\n",
    "print(\"El resultado de num_1/num_2 es:\",num_1/num_2)"
   ]
  },
  {
   "cell_type": "code",
   "execution_count": 8,
   "id": "16b4a544",
   "metadata": {},
   "outputs": [
    {
     "name": "stdout",
     "output_type": "stream",
     "text": [
      "El resultado de num_1/num_2 es: 0.2222222222222222\n"
     ]
    }
   ],
   "source": [
    "# \"/\": división\n",
    "num_1 = 200\n",
    "num_2 = 900\n",
    "print(\"El resultado de num_1/num_2 es:\",num_1/num_2)"
   ]
  },
  {
   "cell_type": "code",
   "execution_count": 9,
   "id": "f86a0cf8",
   "metadata": {},
   "outputs": [
    {
     "name": "stdout",
     "output_type": "stream",
     "text": [
      "El resultado de num_1//num_2 es: 1\n"
     ]
    }
   ],
   "source": [
    "# \"//\": división con redondeo hacia abajo, la parte entera del resultado\n",
    "num_1 = 500\n",
    "num_2 = 300\n",
    "print(\"El resultado de num_1//num_2 es:\",num_1//num_2)"
   ]
  },
  {
   "cell_type": "code",
   "execution_count": 10,
   "id": "121430d1",
   "metadata": {},
   "outputs": [
    {
     "name": "stdout",
     "output_type": "stream",
     "text": [
      "El resultado de num_1//num_2 es: 0\n"
     ]
    }
   ],
   "source": [
    "# \"//\": división con redondeo hacia abajo, la parte entera del resultado\n",
    "num_1 = 200\n",
    "num_2 = 900\n",
    "print(\"El resultado de num_1//num_2 es:\",num_1//num_2)"
   ]
  },
  {
   "cell_type": "code",
   "execution_count": 11,
   "id": "15baa51e",
   "metadata": {},
   "outputs": [
    {
     "name": "stdout",
     "output_type": "stream",
     "text": [
      "El resultado de num_1**num_2 es: 32\n"
     ]
    }
   ],
   "source": [
    "# \"**\": exponente (elevar a un exponente)\n",
    "num_1 = 2\n",
    "num_2 = 5\n",
    "print(\"El resultado de num_1**num_2 es:\",num_1**num_2) # 2*2*2*2*2"
   ]
  },
  {
   "cell_type": "code",
   "execution_count": 12,
   "id": "73996e75",
   "metadata": {},
   "outputs": [
    {
     "name": "stdout",
     "output_type": "stream",
     "text": [
      "El resultado de num_1**num_2 es: 27\n"
     ]
    }
   ],
   "source": [
    "# \"**\": exponente (elevar a un exponente)\n",
    "num_1 = 3\n",
    "num_2 = 3\n",
    "print(\"El resultado de num_1**num_2 es:\",num_1**num_2) # 3*3*3"
   ]
  },
  {
   "cell_type": "markdown",
   "id": "50dc4efd",
   "metadata": {},
   "source": [
    "### Operadores Relacionales"
   ]
  },
  {
   "cell_type": "markdown",
   "id": "cbbcf576",
   "metadata": {},
   "source": [
    "¿Qué son los Operadores Relacionales?\n",
    "- Son también conocidos como Operadores de Comparación\n",
    "- Regresan un valor booleano (Verdadero o Falso)\n",
    "- En Python, son usados para comparar o relacionar los valores\n",
    "- Verdadero/True, es el resultado cuando la condición es exitosa\n",
    "- Falso/False, es el resultado cuando la condición no se cumple\n",
    "- Estos operadores se encargan de las operaciones de comparación"
   ]
  },
  {
   "cell_type": "markdown",
   "id": "39c18372",
   "metadata": {},
   "source": [
    "Tipos de Operadores Relacionales\n",
    "- \"==\": igual a\n",
    "- \"!=\": diferente a\n",
    "- \">\": mayor que\n",
    "- \">=\": mayor o igual que\n",
    "- \"<\": menor que\n",
    "- \"<=\": menor o igual que"
   ]
  },
  {
   "cell_type": "code",
   "execution_count": 13,
   "id": "77500db3",
   "metadata": {},
   "outputs": [],
   "source": [
    "# \"==\": igual a"
   ]
  },
  {
   "cell_type": "code",
   "execution_count": 14,
   "id": "c6e71a96",
   "metadata": {},
   "outputs": [
    {
     "name": "stdout",
     "output_type": "stream",
     "text": [
      "El resultado de num_1==num_2 es: False\n"
     ]
    }
   ],
   "source": [
    "num_1 = 570 # asignación\n",
    "num_2 = 420\n",
    "print(\"El resultado de num_1==num_2 es:\",num_1==num_2)"
   ]
  },
  {
   "cell_type": "code",
   "execution_count": 15,
   "id": "f44f5125",
   "metadata": {},
   "outputs": [
    {
     "name": "stdout",
     "output_type": "stream",
     "text": [
      "El resultado de num_1==num_2 es: True\n"
     ]
    }
   ],
   "source": [
    "num_1 = 570 # asignación\n",
    "num_2 = 570\n",
    "print(\"El resultado de num_1==num_2 es:\",num_1==num_2)"
   ]
  },
  {
   "cell_type": "code",
   "execution_count": 16,
   "id": "9332abbc",
   "metadata": {},
   "outputs": [
    {
     "name": "stdout",
     "output_type": "stream",
     "text": [
      "El resultado de str_1==str_2 es: True\n"
     ]
    }
   ],
   "source": [
    "str_1 = \"Backend Python\" # asignación\n",
    "str_2 = \"Backend Python\"\n",
    "print(\"El resultado de str_1==str_2 es:\",str_1==str_2)"
   ]
  },
  {
   "cell_type": "code",
   "execution_count": 17,
   "id": "eed9215f",
   "metadata": {},
   "outputs": [
    {
     "name": "stdout",
     "output_type": "stream",
     "text": [
      "El resultado de str_1==str_2 es: False\n"
     ]
    }
   ],
   "source": [
    "str_1 = \"Backend Python\" # asignación\n",
    "str_2 = \"Backend python\"\n",
    "print(\"El resultado de str_1==str_2 es:\",str_1==str_2)"
   ]
  },
  {
   "cell_type": "code",
   "execution_count": 18,
   "id": "48ed3475",
   "metadata": {},
   "outputs": [],
   "source": [
    "# \"!=\": diferente a"
   ]
  },
  {
   "cell_type": "code",
   "execution_count": 19,
   "id": "09574b97",
   "metadata": {},
   "outputs": [
    {
     "name": "stdout",
     "output_type": "stream",
     "text": [
      "El resultado de num_1!=num_2 es: True\n"
     ]
    }
   ],
   "source": [
    "num_1 = 570 # asignación\n",
    "num_2 = 420\n",
    "print(\"El resultado de num_1!=num_2 es:\",num_1!=num_2)"
   ]
  },
  {
   "cell_type": "code",
   "execution_count": 20,
   "id": "68f24898",
   "metadata": {},
   "outputs": [
    {
     "name": "stdout",
     "output_type": "stream",
     "text": [
      "El resultado de num_1!=num_2 es: False\n"
     ]
    }
   ],
   "source": [
    "num_1 = 570 # asignación\n",
    "num_2 = 570\n",
    "print(\"El resultado de num_1!=num_2 es:\",num_1!=num_2)"
   ]
  },
  {
   "cell_type": "code",
   "execution_count": 21,
   "id": "edc8568a",
   "metadata": {},
   "outputs": [
    {
     "name": "stdout",
     "output_type": "stream",
     "text": [
      "El resultado de str_1!=str_2 es: False\n"
     ]
    }
   ],
   "source": [
    "str_1 = \"Backend Python\" # asignación\n",
    "str_2 = \"Backend Python\"\n",
    "print(\"El resultado de str_1!=str_2 es:\",str_1!=str_2)"
   ]
  },
  {
   "cell_type": "code",
   "execution_count": 22,
   "id": "76ca7972",
   "metadata": {},
   "outputs": [
    {
     "name": "stdout",
     "output_type": "stream",
     "text": [
      "El resultado de str_1!=str_2 es: True\n"
     ]
    }
   ],
   "source": [
    "str_1 = \"Backend Python\" # asignación\n",
    "str_2 = \"Backend python\"\n",
    "print(\"El resultado de str_1!=str_2 es:\",str_1!=str_2)"
   ]
  },
  {
   "cell_type": "code",
   "execution_count": null,
   "id": "d770acf9",
   "metadata": {},
   "outputs": [],
   "source": [
    "# \">\": mayor que"
   ]
  },
  {
   "cell_type": "code",
   "execution_count": 23,
   "id": "60e063f2",
   "metadata": {},
   "outputs": [
    {
     "name": "stdout",
     "output_type": "stream",
     "text": [
      "El resultado de num_1>num_2 es: True\n"
     ]
    }
   ],
   "source": [
    "num_1 = 570 # asignación\n",
    "num_2 = 420\n",
    "print(\"El resultado de num_1>num_2 es:\",num_1>num_2)"
   ]
  },
  {
   "cell_type": "code",
   "execution_count": 24,
   "id": "7bf0ed16",
   "metadata": {},
   "outputs": [
    {
     "name": "stdout",
     "output_type": "stream",
     "text": [
      "El resultado de num_1>num_2 es: False\n"
     ]
    }
   ],
   "source": [
    "num_1 = 570 # asignación\n",
    "num_2 = 570\n",
    "print(\"El resultado de num_1>num_2 es:\",num_1>num_2)"
   ]
  },
  {
   "cell_type": "code",
   "execution_count": 25,
   "id": "185b6f7b",
   "metadata": {},
   "outputs": [
    {
     "name": "stdout",
     "output_type": "stream",
     "text": [
      "El resultado de num_1>num_2 es: False\n"
     ]
    }
   ],
   "source": [
    "num_1 = 570 # asignación\n",
    "num_2 = 890\n",
    "print(\"El resultado de num_1>num_2 es:\",num_1>num_2)"
   ]
  },
  {
   "cell_type": "code",
   "execution_count": 26,
   "id": "7da8ceba",
   "metadata": {},
   "outputs": [],
   "source": [
    "# \">=\": mayor o igual que"
   ]
  },
  {
   "cell_type": "code",
   "execution_count": 27,
   "id": "f400c850",
   "metadata": {},
   "outputs": [
    {
     "name": "stdout",
     "output_type": "stream",
     "text": [
      "El resultado de num_1>=num_2 es: True\n"
     ]
    }
   ],
   "source": [
    "num_1 = 570 # asignación\n",
    "num_2 = 420\n",
    "print(\"El resultado de num_1>=num_2 es:\",num_1>=num_2)"
   ]
  },
  {
   "cell_type": "code",
   "execution_count": 28,
   "id": "792f2691",
   "metadata": {},
   "outputs": [
    {
     "name": "stdout",
     "output_type": "stream",
     "text": [
      "El resultado de num_1>=num_2 es: True\n"
     ]
    }
   ],
   "source": [
    "num_1 = 570 # asignación\n",
    "num_2 = 570\n",
    "print(\"El resultado de num_1>=num_2 es:\",num_1>=num_2)"
   ]
  },
  {
   "cell_type": "code",
   "execution_count": 29,
   "id": "18baa379",
   "metadata": {},
   "outputs": [
    {
     "name": "stdout",
     "output_type": "stream",
     "text": [
      "El resultado de num_1>=num_2 es: False\n"
     ]
    }
   ],
   "source": [
    "num_1 = 570 # asignación\n",
    "num_2 = 890\n",
    "print(\"El resultado de num_1>=num_2 es:\",num_1>=num_2)"
   ]
  },
  {
   "cell_type": "code",
   "execution_count": 30,
   "id": "56f2c4c5",
   "metadata": {},
   "outputs": [],
   "source": [
    "# \"<\": menor que"
   ]
  },
  {
   "cell_type": "code",
   "execution_count": 31,
   "id": "c148efb3",
   "metadata": {},
   "outputs": [
    {
     "name": "stdout",
     "output_type": "stream",
     "text": [
      "El resultado de num_1<num_2 es: False\n"
     ]
    }
   ],
   "source": [
    "num_1 = 570 # asignación\n",
    "num_2 = 420\n",
    "print(\"El resultado de num_1<num_2 es:\",num_1<num_2)"
   ]
  },
  {
   "cell_type": "code",
   "execution_count": 32,
   "id": "c1d3f6fc",
   "metadata": {},
   "outputs": [
    {
     "name": "stdout",
     "output_type": "stream",
     "text": [
      "El resultado de num_1<num_2 es: False\n"
     ]
    }
   ],
   "source": [
    "num_1 = 570 # asignación\n",
    "num_2 = 570\n",
    "print(\"El resultado de num_1<num_2 es:\",num_1<num_2)"
   ]
  },
  {
   "cell_type": "code",
   "execution_count": 33,
   "id": "4bb01b0f",
   "metadata": {},
   "outputs": [
    {
     "name": "stdout",
     "output_type": "stream",
     "text": [
      "El resultado de num_1<num_2 es: True\n"
     ]
    }
   ],
   "source": [
    "num_1 = 570 # asignación\n",
    "num_2 = 890\n",
    "print(\"El resultado de num_1<num_2 es:\",num_1<num_2)"
   ]
  },
  {
   "cell_type": "code",
   "execution_count": 34,
   "id": "1a6f822b",
   "metadata": {},
   "outputs": [],
   "source": [
    "# \"<=\": menor o igual que"
   ]
  },
  {
   "cell_type": "code",
   "execution_count": 35,
   "id": "b34aa78e",
   "metadata": {},
   "outputs": [
    {
     "name": "stdout",
     "output_type": "stream",
     "text": [
      "El resultado de num_1<=num_2 es: False\n"
     ]
    }
   ],
   "source": [
    "num_1 = 570 # asignación\n",
    "num_2 = 420\n",
    "print(\"El resultado de num_1<=num_2 es:\",num_1<=num_2)"
   ]
  },
  {
   "cell_type": "code",
   "execution_count": 36,
   "id": "313d5081",
   "metadata": {},
   "outputs": [
    {
     "name": "stdout",
     "output_type": "stream",
     "text": [
      "El resultado de num_1<=num_2 es: True\n"
     ]
    }
   ],
   "source": [
    "num_1 = 570 # asignación\n",
    "num_2 = 570\n",
    "print(\"El resultado de num_1<=num_2 es:\",num_1<=num_2)"
   ]
  },
  {
   "cell_type": "code",
   "execution_count": 37,
   "id": "6322db2a",
   "metadata": {},
   "outputs": [
    {
     "name": "stdout",
     "output_type": "stream",
     "text": [
      "El resultado de num_1<=num_2 es: True\n"
     ]
    }
   ],
   "source": [
    "num_1 = 570 # asignación\n",
    "num_2 = 890\n",
    "print(\"El resultado de num_1<=num_2 es:\",num_1<=num_2)"
   ]
  },
  {
   "cell_type": "markdown",
   "id": "318defac",
   "metadata": {},
   "source": [
    "### Operadores de Asignación"
   ]
  },
  {
   "cell_type": "markdown",
   "id": "6280344d",
   "metadata": {},
   "source": [
    "¿Qué son los Operadores de Asignación?\n",
    "- En Python son usados para asignar valores a variables\n",
    "- Incluyen al operador de asignación que es el signo de igual (=)"
   ]
  },
  {
   "cell_type": "markdown",
   "id": "be611c40",
   "metadata": {},
   "source": [
    "Tipos de Operadores de Asignación:\n",
    "- \"=\": Operador de Asignación\n",
    "- \"+=\": Sumar y Asignar\n",
    "- \"-=\": Restar y Asignar\n",
    "- \"*=\": Multiplicar y Asignar\n",
    "- \"/=\": Dividir y Asignar\n",
    "- \"//=\": Dividir con redondeo hacia abajo y Asignar\n",
    "- \"%=\": Módulo y Asignar\n",
    "- \"**=\": Exponente y Asignar"
   ]
  },
  {
   "cell_type": "code",
   "execution_count": 39,
   "id": "fa727928",
   "metadata": {},
   "outputs": [],
   "source": [
    "# \"=\": Operador de Asignación"
   ]
  },
  {
   "cell_type": "code",
   "execution_count": 40,
   "id": "e1b74469",
   "metadata": {},
   "outputs": [],
   "source": [
    "num_1 = 20\n",
    "num_2 = 3"
   ]
  },
  {
   "cell_type": "code",
   "execution_count": 41,
   "id": "d3c9a815",
   "metadata": {},
   "outputs": [],
   "source": [
    "# \"+=\": Sumar y Asignar"
   ]
  },
  {
   "cell_type": "code",
   "execution_count": 43,
   "id": "78599197",
   "metadata": {},
   "outputs": [
    {
     "name": "stdout",
     "output_type": "stream",
     "text": [
      "num_1 antes de la operación:  20\n",
      "num_1 después de la operación:  23\n"
     ]
    }
   ],
   "source": [
    "num_1 = 20\n",
    "num_2 = 3\n",
    "print(\"num_1 antes de la operación: \", num_1)\n",
    "num_1 += num_2 # num_1 = num_1 + num_2\n",
    "print(\"num_1 después de la operación: \", num_1)"
   ]
  },
  {
   "cell_type": "code",
   "execution_count": 44,
   "id": "6672bace",
   "metadata": {},
   "outputs": [
    {
     "name": "stdout",
     "output_type": "stream",
     "text": [
      "num_1 antes de la operación:  20\n",
      "num_1 después de la operación:  17\n"
     ]
    }
   ],
   "source": [
    "num_1 = 20\n",
    "num_2 = 3\n",
    "print(\"num_1 antes de la operación: \", num_1)\n",
    "num_1 -= num_2 # num_1 = num_1 - num_2\n",
    "print(\"num_1 después de la operación: \", num_1)"
   ]
  },
  {
   "cell_type": "code",
   "execution_count": 45,
   "id": "0483e348",
   "metadata": {},
   "outputs": [
    {
     "name": "stdout",
     "output_type": "stream",
     "text": [
      "num_1 antes de la operación:  20\n",
      "num_1 después de la operación:  60\n"
     ]
    }
   ],
   "source": [
    "num_1 = 20\n",
    "num_2 = 3\n",
    "print(\"num_1 antes de la operación: \", num_1)\n",
    "num_1 *= num_2 # num_1 = num_1 * num_2\n",
    "print(\"num_1 después de la operación: \", num_1)"
   ]
  },
  {
   "cell_type": "code",
   "execution_count": 46,
   "id": "6c5763c0",
   "metadata": {},
   "outputs": [
    {
     "name": "stdout",
     "output_type": "stream",
     "text": [
      "num_1 antes de la operación:  20\n",
      "num_1 después de la operación:  6.666666666666667\n"
     ]
    }
   ],
   "source": [
    "num_1 = 20\n",
    "num_2 = 3\n",
    "print(\"num_1 antes de la operación: \", num_1)\n",
    "num_1 /= num_2 # num_1 = num_1 / num_2\n",
    "print(\"num_1 después de la operación: \", num_1)"
   ]
  },
  {
   "cell_type": "code",
   "execution_count": 47,
   "id": "3986f7dc",
   "metadata": {},
   "outputs": [
    {
     "name": "stdout",
     "output_type": "stream",
     "text": [
      "num_1 antes de la operación:  20\n",
      "num_1 después de la operación:  6\n"
     ]
    }
   ],
   "source": [
    "num_1 = 20\n",
    "num_2 = 3\n",
    "print(\"num_1 antes de la operación: \", num_1)\n",
    "num_1 //= num_2 # num_1 = num_1 // num_2\n",
    "print(\"num_1 después de la operación: \", num_1)"
   ]
  },
  {
   "cell_type": "code",
   "execution_count": 48,
   "id": "b3a3ef2a",
   "metadata": {},
   "outputs": [
    {
     "name": "stdout",
     "output_type": "stream",
     "text": [
      "num_1 antes de la operación:  20\n",
      "num_1 después de la operación:  2\n"
     ]
    }
   ],
   "source": [
    "# % - Módulo - El número que queda después de haber dividido, residuo\n",
    "num_1 = 20\n",
    "num_2 = 3\n",
    "print(\"num_1 antes de la operación: \", num_1)\n",
    "num_1 %= num_2 # num_1 = num_1 % num_2\n",
    "print(\"num_1 después de la operación: \", num_1)"
   ]
  },
  {
   "cell_type": "code",
   "execution_count": 49,
   "id": "418597fa",
   "metadata": {},
   "outputs": [
    {
     "name": "stdout",
     "output_type": "stream",
     "text": [
      "num_1 antes de la operación:  20\n",
      "num_1 después de la operación:  8000\n"
     ]
    }
   ],
   "source": [
    "# exponente\n",
    "num_1 = 20\n",
    "num_2 = 3\n",
    "print(\"num_1 antes de la operación: \", num_1)\n",
    "num_1 **= num_2 # num_1 = num_1 ** num_2 \n",
    "# 20 * 20 * 20\n",
    "print(\"num_1 después de la operación: \", num_1)"
   ]
  },
  {
   "cell_type": "markdown",
   "id": "44afa866",
   "metadata": {},
   "source": [
    "### Operadores Lógicos"
   ]
  },
  {
   "cell_type": "markdown",
   "id": "55b4f8ad",
   "metadata": {},
   "source": [
    "¿Qué son los Operadores Lógicos?\n",
    "- Son usados principalmente para declaraciones condicionales\n",
    "- Son indicadores estructurales\n",
    "- También se les conoce como Conectores Lógicos\n",
    "- Hay 3 tipos de Operadores Lógicos:\n",
    "    - AND (y) - regresa True/Verdadero si ambas operaciones son verdaderas\n",
    "    - OR (o) - regresa True/Verdadero si por lo menos una de las operaciones es verdadera\n",
    "    - NOT (lo opuesto) - regresa True/Verdadero si la operación es Falase/Falso"
   ]
  },
  {
   "cell_type": "code",
   "execution_count": 50,
   "id": "4d7fa1d3",
   "metadata": {},
   "outputs": [],
   "source": [
    "# AND (y)\n",
    "# Todas las condiciones deben ser Verdaderas"
   ]
  },
  {
   "cell_type": "code",
   "execution_count": 51,
   "id": "5550f163",
   "metadata": {},
   "outputs": [
    {
     "name": "stdout",
     "output_type": "stream",
     "text": [
      "num_1<=num_2 and num_1!=num_2 True\n"
     ]
    }
   ],
   "source": [
    "num_1 = 11\n",
    "num_2 = 55\n",
    "# num_1<=num_2: True/Verdadero\n",
    "# num_1!=num_2: True/Verdadero\n",
    "print(\"num_1<=num_2 and num_1!=num_2\", num_1<=num_2 and num_1!=num_2)"
   ]
  },
  {
   "cell_type": "code",
   "execution_count": 52,
   "id": "3bf058f0",
   "metadata": {},
   "outputs": [
    {
     "name": "stdout",
     "output_type": "stream",
     "text": [
      "num_1<=num_2 and num_1!=num_2 False\n"
     ]
    }
   ],
   "source": [
    "num_1 = 11\n",
    "num_2 = 11\n",
    "# num_1<=num_2: True/Verdadero\n",
    "# num_1!=num_2: False/Falso\n",
    "print(\"num_1<=num_2 and num_1!=num_2\", num_1<=num_2 and num_1!=num_2)"
   ]
  },
  {
   "cell_type": "code",
   "execution_count": 53,
   "id": "d1654120",
   "metadata": {},
   "outputs": [
    {
     "name": "stdout",
     "output_type": "stream",
     "text": [
      "num_1<=num_2 and num_1!=num_2 True\n"
     ]
    }
   ],
   "source": [
    "num_1 = 11\n",
    "num_2 = 55\n",
    "# num_1<=num_2: True/Verdadero\n",
    "# num_1!=num_2: True/Verdadero\n",
    "# num_1>10: True/Verdadero\n",
    "print(\"num_1<=num_2 and num_1!=num_2\", num_1<=num_2 and num_1!=num_2 and num_1>10)"
   ]
  },
  {
   "cell_type": "code",
   "execution_count": 54,
   "id": "62fcc291",
   "metadata": {},
   "outputs": [
    {
     "name": "stdout",
     "output_type": "stream",
     "text": [
      "num_1<=num_2 and num_1!=num_2 False\n"
     ]
    }
   ],
   "source": [
    "num_1 = 11\n",
    "num_2 = 11\n",
    "# num_1<=num_2: True/Verdadero\n",
    "# num_1!=num_2: False/Falso\n",
    "# num_1>10: True/Verdadero\n",
    "print(\"num_1<=num_2 and num_1!=num_2\", num_1<=num_2 and num_1!=num_2 and num_1>10)"
   ]
  },
  {
   "cell_type": "code",
   "execution_count": 55,
   "id": "9d764b88",
   "metadata": {},
   "outputs": [],
   "source": [
    "# OR (o) - con que una de las condiciones de cumpla regresa True"
   ]
  },
  {
   "cell_type": "code",
   "execution_count": 56,
   "id": "1758d2c6",
   "metadata": {},
   "outputs": [
    {
     "name": "stdout",
     "output_type": "stream",
     "text": [
      "num_1<=num_2 and num_1!=num_2 True\n"
     ]
    }
   ],
   "source": [
    "num_1 = 11\n",
    "num_2 = 55\n",
    "# num_1<=num_2: True/Verdadero\n",
    "# num_1!=num_2: True/Verdadero\n",
    "print(\"num_1<=num_2 and num_1!=num_2\", num_1<=num_2 or num_1!=num_2)"
   ]
  },
  {
   "cell_type": "code",
   "execution_count": 57,
   "id": "5c6bdb1b",
   "metadata": {},
   "outputs": [
    {
     "name": "stdout",
     "output_type": "stream",
     "text": [
      "num_1<=num_2 and num_1!=num_2 True\n"
     ]
    }
   ],
   "source": [
    "num_1 = 11\n",
    "num_2 = 11\n",
    "# num_1<=num_2: True/Verdadero\n",
    "# num_1!=num_2: False/Falso\n",
    "print(\"num_1<=num_2 and num_1!=num_2\", num_1<=num_2 or num_1!=num_2)"
   ]
  },
  {
   "cell_type": "code",
   "execution_count": 58,
   "id": "e6f1a7d3",
   "metadata": {},
   "outputs": [
    {
     "name": "stdout",
     "output_type": "stream",
     "text": [
      "num_1<=num_2 and num_1!=num_2 True\n"
     ]
    }
   ],
   "source": [
    "num_1 = 11\n",
    "num_2 = 55\n",
    "# num_1<=num_2: True/Verdadero\n",
    "# num_1!=num_2: True/Verdadero\n",
    "# num_1>10: True/Verdadero\n",
    "print(\"num_1<=num_2 and num_1!=num_2\", num_1<=num_2 or num_1!=num_2 or num_1>10)"
   ]
  },
  {
   "cell_type": "code",
   "execution_count": 59,
   "id": "c65f2abc",
   "metadata": {},
   "outputs": [
    {
     "name": "stdout",
     "output_type": "stream",
     "text": [
      "num_1<=num_2 and num_1!=num_2 True\n"
     ]
    }
   ],
   "source": [
    "num_1 = 11\n",
    "num_2 = 11\n",
    "# num_1<=num_2: True/Verdadero\n",
    "# num_1!=num_2: False/Falso\n",
    "# num_1>10: True/Verdadero\n",
    "print(\"num_1<=num_2 and num_1!=num_2\", num_1<=num_2 or num_1!=num_2 or num_1>10)"
   ]
  },
  {
   "cell_type": "code",
   "execution_count": 60,
   "id": "f9882fd3",
   "metadata": {},
   "outputs": [],
   "source": [
    "# NOT (lo opuesto)\n",
    "# La condición debe ser Falsa"
   ]
  },
  {
   "cell_type": "code",
   "execution_count": 62,
   "id": "3e1104ba",
   "metadata": {},
   "outputs": [
    {
     "name": "stdout",
     "output_type": "stream",
     "text": [
      "not num_1<=num_2 False\n"
     ]
    }
   ],
   "source": [
    "num_1 = 11\n",
    "num_2 = 55\n",
    "# num_1<=num_2: True/Verdadero\n",
    "print(\"not num_1<=num_2\", not num_1<=num_2)"
   ]
  },
  {
   "cell_type": "code",
   "execution_count": 63,
   "id": "67db6d4c",
   "metadata": {},
   "outputs": [
    {
     "name": "stdout",
     "output_type": "stream",
     "text": [
      "not num_1!=num_2 False\n"
     ]
    }
   ],
   "source": [
    "num_1 = 11\n",
    "num_2 = 55\n",
    "# num_1!=num_2: True/Verdadero\n",
    "print(\"not num_1!=num_2\", not num_1!=num_2)"
   ]
  },
  {
   "cell_type": "code",
   "execution_count": 64,
   "id": "1baff79c",
   "metadata": {},
   "outputs": [
    {
     "name": "stdout",
     "output_type": "stream",
     "text": [
      "not num_1!=num_2 True\n"
     ]
    }
   ],
   "source": [
    "num_1 = 11\n",
    "num_2 = 55\n",
    "# num_1>num_2: False/Falso\n",
    "print(\"not num_1!=num_2\", not num_1>num_2)"
   ]
  },
  {
   "cell_type": "markdown",
   "id": "025fa76c",
   "metadata": {},
   "source": [
    "### Operadores de Afiliación"
   ]
  },
  {
   "cell_type": "markdown",
   "id": "1335ba96",
   "metadata": {},
   "source": [
    "¿Qué son los Operadores de Afiliación?\n",
    "- Son usados para validar los elementos en listas, cadenas y tuplas\n",
    "- Validan si una variable está presente en una secuencia\n",
    "- Regresan un valor booleano con el resultado True/False\n",
    "- Regresan True/Verdadero si el valor está presente en la secuencia\n",
    "- Regresan False/Falso si el valor no está presente en la secuencia\n",
    "- Hay 2 operadores de afiliación:\n",
    "    - IN - el valor está en la secuencia\n",
    "    - NOT IN - el valor no está en la secuencia"
   ]
  },
  {
   "cell_type": "code",
   "execution_count": 65,
   "id": "016a61dc",
   "metadata": {},
   "outputs": [],
   "source": [
    "# IN: ¿El valor está presente en la secuencia?"
   ]
  },
  {
   "cell_type": "code",
   "execution_count": 66,
   "id": "8ca44b5d",
   "metadata": {},
   "outputs": [
    {
     "name": "stdout",
     "output_type": "stream",
     "text": [
      "'a' in my_string True\n"
     ]
    }
   ],
   "source": [
    "my_string = \"Backend Python\"\n",
    "print(\"'a' in my_string\",'a' in my_string)"
   ]
  },
  {
   "cell_type": "code",
   "execution_count": 67,
   "id": "3c2f6d7f",
   "metadata": {},
   "outputs": [
    {
     "name": "stdout",
     "output_type": "stream",
     "text": [
      "'i' in my_string False\n"
     ]
    }
   ],
   "source": [
    "my_string = \"Backend Python\"\n",
    "print(\"'i' in my_string\",'i' in my_string)"
   ]
  },
  {
   "cell_type": "code",
   "execution_count": 68,
   "id": "388263e8",
   "metadata": {},
   "outputs": [
    {
     "name": "stdout",
     "output_type": "stream",
     "text": [
      "5 in my_list False\n"
     ]
    }
   ],
   "source": [
    "my_list = [1, 154, 321, 22, 11]\n",
    "print(\"5 in my_list\", 5 in my_list)"
   ]
  },
  {
   "cell_type": "code",
   "execution_count": 71,
   "id": "2a70d5aa",
   "metadata": {},
   "outputs": [
    {
     "name": "stdout",
     "output_type": "stream",
     "text": [
      "5 in my_list True\n"
     ]
    }
   ],
   "source": [
    "my_list = [1, 154, 321, 22, 11, 5, 11, 22, 5, 1]\n",
    "print(\"5 in my_list\", 5 in my_list)"
   ]
  },
  {
   "cell_type": "code",
   "execution_count": 72,
   "id": "e6407c58",
   "metadata": {},
   "outputs": [
    {
     "data": {
      "text/plain": [
       "[1, 154, 321, 22, 11, 5, 11, 22, 5, 1]"
      ]
     },
     "execution_count": 72,
     "metadata": {},
     "output_type": "execute_result"
    }
   ],
   "source": [
    "my_list"
   ]
  },
  {
   "cell_type": "code",
   "execution_count": 73,
   "id": "0ea062d9",
   "metadata": {},
   "outputs": [
    {
     "name": "stdout",
     "output_type": "stream",
     "text": [
      "5 in my_set True\n"
     ]
    }
   ],
   "source": [
    "my_set = {1, 154, 321, 22, 11, 5, 11, 22, 5, 1}\n",
    "print(\"5 in my_set\", 5 in my_set)"
   ]
  },
  {
   "cell_type": "code",
   "execution_count": 74,
   "id": "35c7a3c2",
   "metadata": {},
   "outputs": [
    {
     "data": {
      "text/plain": [
       "{1, 5, 11, 22, 154, 321}"
      ]
     },
     "execution_count": 74,
     "metadata": {},
     "output_type": "execute_result"
    }
   ],
   "source": [
    "my_set"
   ]
  },
  {
   "cell_type": "code",
   "execution_count": 75,
   "id": "474a3323",
   "metadata": {},
   "outputs": [],
   "source": [
    "# NOT IN: ¿El valor NO está presente en la secuencia?"
   ]
  },
  {
   "cell_type": "code",
   "execution_count": 76,
   "id": "ffc290c5",
   "metadata": {},
   "outputs": [
    {
     "name": "stdout",
     "output_type": "stream",
     "text": [
      "'a' not in my_string False\n"
     ]
    }
   ],
   "source": [
    "my_string = \"Backend Python\"\n",
    "print(\"'a' not in my_string\",'a' not in my_string)"
   ]
  },
  {
   "cell_type": "code",
   "execution_count": 77,
   "id": "7fe09317",
   "metadata": {},
   "outputs": [
    {
     "name": "stdout",
     "output_type": "stream",
     "text": [
      "'i' not in my_string True\n"
     ]
    }
   ],
   "source": [
    "my_string = \"Backend Python\"\n",
    "print(\"'i' not in my_string\",'i' not in my_string)"
   ]
  },
  {
   "cell_type": "code",
   "execution_count": 78,
   "id": "2fdc7d5d",
   "metadata": {},
   "outputs": [
    {
     "name": "stdout",
     "output_type": "stream",
     "text": [
      "5 not in my_list True\n"
     ]
    }
   ],
   "source": [
    "my_list = [1, 154, 321, 22, 11]\n",
    "print(\"5 not in my_list\", 5 not in my_list)"
   ]
  },
  {
   "cell_type": "code",
   "execution_count": 79,
   "id": "ac5e74e8",
   "metadata": {},
   "outputs": [
    {
     "name": "stdout",
     "output_type": "stream",
     "text": [
      "5 not in my_list False\n"
     ]
    }
   ],
   "source": [
    "my_list = [1, 154, 321, 22, 11, 5]\n",
    "print(\"5 not in my_list\", 5 not in my_list)"
   ]
  },
  {
   "cell_type": "code",
   "execution_count": 80,
   "id": "47484455",
   "metadata": {},
   "outputs": [
    {
     "name": "stdout",
     "output_type": "stream",
     "text": [
      "5 not in my_set False\n"
     ]
    }
   ],
   "source": [
    "my_set = {1, 154, 321, 22, 11, 5, 11, 22, 5, 1}\n",
    "print(\"5 not in my_set\", 5 not in my_set)"
   ]
  },
  {
   "cell_type": "markdown",
   "id": "c8569003",
   "metadata": {},
   "source": [
    "### Operadores de Identidad"
   ]
  },
  {
   "cell_type": "markdown",
   "id": "15ba3555",
   "metadata": {},
   "source": [
    "¿Qué son los Operadores de Identidad?\n",
    "- Son usados para comparar la ubicación en memoria de dos objetos\n",
    "- Se utlizan para validar si los valores comparten el mismo espacio en memoria o no\n",
    "- Regresa True/Verdadero si lo comparten, y False/Falso si no lo comparten\n",
    "- Hay 2 Operadores de Identidad\n",
    "    - IS\n",
    "    - IS NOT"
   ]
  },
  {
   "cell_type": "code",
   "execution_count": null,
   "id": "f166877a",
   "metadata": {},
   "outputs": [],
   "source": [
    "# IS"
   ]
  },
  {
   "cell_type": "code",
   "execution_count": 81,
   "id": "e1d00e23",
   "metadata": {},
   "outputs": [
    {
     "name": "stdout",
     "output_type": "stream",
     "text": [
      "num_1 is num_2 False\n"
     ]
    }
   ],
   "source": [
    "num_1 = 11\n",
    "num_2 = 55\n",
    "print(\"num_1 is num_2\", num_1 is num_2)"
   ]
  },
  {
   "cell_type": "code",
   "execution_count": 82,
   "id": "8279eef3",
   "metadata": {},
   "outputs": [
    {
     "name": "stdout",
     "output_type": "stream",
     "text": [
      "num_1 is num_2 True\n"
     ]
    }
   ],
   "source": [
    "num_1 = 77\n",
    "num_2 = 77\n",
    "print(\"num_1 is num_2\", num_1 is num_2)"
   ]
  },
  {
   "cell_type": "code",
   "execution_count": 83,
   "id": "dce5e401",
   "metadata": {},
   "outputs": [],
   "source": [
    "# IS NOT"
   ]
  },
  {
   "cell_type": "code",
   "execution_count": 84,
   "id": "625d1e94",
   "metadata": {},
   "outputs": [
    {
     "name": "stdout",
     "output_type": "stream",
     "text": [
      "num_1 is not num_2 True\n"
     ]
    }
   ],
   "source": [
    "num_1 = 11\n",
    "num_2 = 55\n",
    "print(\"num_1 is not num_2\", num_1 is not num_2)"
   ]
  },
  {
   "cell_type": "code",
   "execution_count": 85,
   "id": "db1be2a9",
   "metadata": {},
   "outputs": [
    {
     "name": "stdout",
     "output_type": "stream",
     "text": [
      "num_1 is not num_2 False\n"
     ]
    }
   ],
   "source": [
    "num_1 = 77\n",
    "num_2 = 77\n",
    "print(\"num_1 is not num_2\", num_1 is not num_2)"
   ]
  },
  {
   "cell_type": "markdown",
   "id": "b4d976c4",
   "metadata": {},
   "source": [
    "## Conversión de Tipos"
   ]
  },
  {
   "cell_type": "markdown",
   "id": "d3a1fbff",
   "metadata": {},
   "source": [
    "¿Qué es la Conversión de Tipos?\n",
    "- Es el proceso de conversión de un tipo de dato a otro tipo de dato\n",
    "- Es un paso muy importante para combinar múltiples fuentes de datos en un formato específico\n",
    "- Hay 2 tipos:\n",
    "    - Conversión Implícita: hecha de forma automática por el intérprete de python\n",
    "    - Conversión Explícita"
   ]
  },
  {
   "cell_type": "code",
   "execution_count": 86,
   "id": "274f09be",
   "metadata": {},
   "outputs": [],
   "source": [
    "# Conversión Implícita"
   ]
  },
  {
   "cell_type": "code",
   "execution_count": 87,
   "id": "0c049d86",
   "metadata": {},
   "outputs": [
    {
     "data": {
      "text/plain": [
       "16.0"
      ]
     },
     "execution_count": 87,
     "metadata": {},
     "output_type": "execute_result"
    }
   ],
   "source": [
    "14+2.0"
   ]
  },
  {
   "cell_type": "code",
   "execution_count": 88,
   "id": "04383857",
   "metadata": {},
   "outputs": [
    {
     "data": {
      "text/plain": [
       "19.0"
      ]
     },
     "execution_count": 88,
     "metadata": {},
     "output_type": "execute_result"
    }
   ],
   "source": [
    "14+2.0+3"
   ]
  },
  {
   "cell_type": "code",
   "execution_count": 89,
   "id": "95857a50",
   "metadata": {},
   "outputs": [],
   "source": [
    "# Conversión Explícita"
   ]
  },
  {
   "cell_type": "code",
   "execution_count": 90,
   "id": "3319b5c4",
   "metadata": {},
   "outputs": [
    {
     "data": {
      "text/plain": [
       "199"
      ]
     },
     "execution_count": 90,
     "metadata": {},
     "output_type": "execute_result"
    }
   ],
   "source": [
    "int(199.99)"
   ]
  },
  {
   "cell_type": "code",
   "execution_count": 91,
   "id": "31d5beed",
   "metadata": {},
   "outputs": [
    {
     "data": {
      "text/plain": [
       "58.0"
      ]
     },
     "execution_count": 91,
     "metadata": {},
     "output_type": "execute_result"
    }
   ],
   "source": [
    "float(58)"
   ]
  },
  {
   "cell_type": "code",
   "execution_count": 92,
   "id": "b4180fe7",
   "metadata": {},
   "outputs": [
    {
     "data": {
      "text/plain": [
       "(4+0j)"
      ]
     },
     "execution_count": 92,
     "metadata": {},
     "output_type": "execute_result"
    }
   ],
   "source": [
    "complex(4)"
   ]
  },
  {
   "cell_type": "markdown",
   "id": "2a3ad14e",
   "metadata": {},
   "source": [
    "### Conversion int"
   ]
  },
  {
   "cell_type": "code",
   "execution_count": 93,
   "id": "6b5b1970",
   "metadata": {},
   "outputs": [
    {
     "data": {
      "text/plain": [
       "10"
      ]
     },
     "execution_count": 93,
     "metadata": {},
     "output_type": "execute_result"
    }
   ],
   "source": [
    "int(10.78) # float a int"
   ]
  },
  {
   "cell_type": "code",
   "execution_count": 94,
   "id": "4aaa69fb",
   "metadata": {},
   "outputs": [
    {
     "data": {
      "text/plain": [
       "0"
      ]
     },
     "execution_count": 94,
     "metadata": {},
     "output_type": "execute_result"
    }
   ],
   "source": [
    "int(False) # bool a int"
   ]
  },
  {
   "cell_type": "code",
   "execution_count": 95,
   "id": "aa6bd6b1",
   "metadata": {},
   "outputs": [
    {
     "data": {
      "text/plain": [
       "1"
      ]
     },
     "execution_count": 95,
     "metadata": {},
     "output_type": "execute_result"
    }
   ],
   "source": [
    "int(True) # bool a int"
   ]
  },
  {
   "cell_type": "code",
   "execution_count": 97,
   "id": "3f70bfe8",
   "metadata": {},
   "outputs": [
    {
     "ename": "TypeError",
     "evalue": "can't convert complex to int",
     "output_type": "error",
     "traceback": [
      "\u001b[0;31m---------------------------------------------------------------------------\u001b[0m",
      "\u001b[0;31mTypeError\u001b[0m                                 Traceback (most recent call last)",
      "Input \u001b[0;32mIn [97]\u001b[0m, in \u001b[0;36m<cell line: 2>\u001b[0;34m()\u001b[0m\n\u001b[1;32m      1\u001b[0m \u001b[38;5;66;03m# error\u001b[39;00m\n\u001b[0;32m----> 2\u001b[0m \u001b[38;5;28;43mint\u001b[39;49m\u001b[43m(\u001b[49m\u001b[38;5;241;43m5\u001b[39;49m\u001b[38;5;241;43m+\u001b[39;49m\u001b[38;5;241;43m3\u001b[39;49m\u001b[43mj\u001b[49m\u001b[43m)\u001b[49m\n",
      "\u001b[0;31mTypeError\u001b[0m: can't convert complex to int"
     ]
    }
   ],
   "source": [
    "# error\n",
    "int(5+3j) # complex a int"
   ]
  },
  {
   "cell_type": "code",
   "execution_count": 98,
   "id": "93e41026",
   "metadata": {},
   "outputs": [
    {
     "data": {
      "text/plain": [
       "120"
      ]
     },
     "execution_count": 98,
     "metadata": {},
     "output_type": "execute_result"
    }
   ],
   "source": [
    "int(\"120\") # string a int"
   ]
  },
  {
   "cell_type": "code",
   "execution_count": 99,
   "id": "0a5ad252",
   "metadata": {},
   "outputs": [
    {
     "ename": "ValueError",
     "evalue": "invalid literal for int() with base 10: '120.5'",
     "output_type": "error",
     "traceback": [
      "\u001b[0;31m---------------------------------------------------------------------------\u001b[0m",
      "\u001b[0;31mValueError\u001b[0m                                Traceback (most recent call last)",
      "Input \u001b[0;32mIn [99]\u001b[0m, in \u001b[0;36m<cell line: 2>\u001b[0;34m()\u001b[0m\n\u001b[1;32m      1\u001b[0m \u001b[38;5;66;03m# error\u001b[39;00m\n\u001b[0;32m----> 2\u001b[0m \u001b[38;5;28;43mint\u001b[39;49m\u001b[43m(\u001b[49m\u001b[38;5;124;43m\"\u001b[39;49m\u001b[38;5;124;43m120.5\u001b[39;49m\u001b[38;5;124;43m\"\u001b[39;49m\u001b[43m)\u001b[49m\n",
      "\u001b[0;31mValueError\u001b[0m: invalid literal for int() with base 10: '120.5'"
     ]
    }
   ],
   "source": [
    "# error\n",
    "int(\"120.5\") # string a int"
   ]
  },
  {
   "cell_type": "markdown",
   "id": "fb8c4281",
   "metadata": {},
   "source": [
    "### Conversion float"
   ]
  },
  {
   "cell_type": "code",
   "execution_count": 100,
   "id": "b95c1ce1",
   "metadata": {},
   "outputs": [
    {
     "data": {
      "text/plain": [
       "23.0"
      ]
     },
     "execution_count": 100,
     "metadata": {},
     "output_type": "execute_result"
    }
   ],
   "source": [
    "float(23) # int a float"
   ]
  },
  {
   "cell_type": "code",
   "execution_count": 101,
   "id": "813a49f0",
   "metadata": {},
   "outputs": [
    {
     "ename": "TypeError",
     "evalue": "can't convert complex to float",
     "output_type": "error",
     "traceback": [
      "\u001b[0;31m---------------------------------------------------------------------------\u001b[0m",
      "\u001b[0;31mTypeError\u001b[0m                                 Traceback (most recent call last)",
      "Input \u001b[0;32mIn [101]\u001b[0m, in \u001b[0;36m<cell line: 1>\u001b[0;34m()\u001b[0m\n\u001b[0;32m----> 1\u001b[0m \u001b[38;5;28;43mfloat\u001b[39;49m\u001b[43m(\u001b[49m\u001b[38;5;241;43m23\u001b[39;49m\u001b[38;5;241;43m+\u001b[39;49m\u001b[38;5;241;43m3\u001b[39;49m\u001b[43mj\u001b[49m\u001b[43m)\u001b[49m\n",
      "\u001b[0;31mTypeError\u001b[0m: can't convert complex to float"
     ]
    }
   ],
   "source": [
    "# error\n",
    "float(23+3j) # complex a float"
   ]
  },
  {
   "cell_type": "code",
   "execution_count": 102,
   "id": "bbe62a45",
   "metadata": {},
   "outputs": [
    {
     "data": {
      "text/plain": [
       "1.0"
      ]
     },
     "execution_count": 102,
     "metadata": {},
     "output_type": "execute_result"
    }
   ],
   "source": [
    "float(True) # bool a float"
   ]
  },
  {
   "cell_type": "code",
   "execution_count": 103,
   "id": "015cc5ea",
   "metadata": {},
   "outputs": [
    {
     "data": {
      "text/plain": [
       "843.29"
      ]
     },
     "execution_count": 103,
     "metadata": {},
     "output_type": "execute_result"
    }
   ],
   "source": [
    "float(\"843.29\") # string a float"
   ]
  },
  {
   "cell_type": "code",
   "execution_count": 104,
   "id": "7d1c5429",
   "metadata": {},
   "outputs": [
    {
     "data": {
      "text/plain": [
       "843.0"
      ]
     },
     "execution_count": 104,
     "metadata": {},
     "output_type": "execute_result"
    }
   ],
   "source": [
    "float(\"843\") # string a float"
   ]
  },
  {
   "cell_type": "code",
   "execution_count": 105,
   "id": "28125854",
   "metadata": {},
   "outputs": [
    {
     "ename": "ValueError",
     "evalue": "could not convert string to float: '843t'",
     "output_type": "error",
     "traceback": [
      "\u001b[0;31m---------------------------------------------------------------------------\u001b[0m",
      "\u001b[0;31mValueError\u001b[0m                                Traceback (most recent call last)",
      "Input \u001b[0;32mIn [105]\u001b[0m, in \u001b[0;36m<cell line: 2>\u001b[0;34m()\u001b[0m\n\u001b[1;32m      1\u001b[0m \u001b[38;5;66;03m# error\u001b[39;00m\n\u001b[0;32m----> 2\u001b[0m \u001b[38;5;28;43mfloat\u001b[39;49m\u001b[43m(\u001b[49m\u001b[38;5;124;43m\"\u001b[39;49m\u001b[38;5;124;43m843t\u001b[39;49m\u001b[38;5;124;43m\"\u001b[39;49m\u001b[43m)\u001b[49m\n",
      "\u001b[0;31mValueError\u001b[0m: could not convert string to float: '843t'"
     ]
    }
   ],
   "source": [
    "# error\n",
    "float(\"843t\") # string a float"
   ]
  },
  {
   "cell_type": "code",
   "execution_count": 106,
   "id": "0bfa4c2a",
   "metadata": {},
   "outputs": [
    {
     "ename": "ValueError",
     "evalue": "could not convert string to float: 'True'",
     "output_type": "error",
     "traceback": [
      "\u001b[0;31m---------------------------------------------------------------------------\u001b[0m",
      "\u001b[0;31mValueError\u001b[0m                                Traceback (most recent call last)",
      "Input \u001b[0;32mIn [106]\u001b[0m, in \u001b[0;36m<cell line: 2>\u001b[0;34m()\u001b[0m\n\u001b[1;32m      1\u001b[0m \u001b[38;5;66;03m# error\u001b[39;00m\n\u001b[0;32m----> 2\u001b[0m \u001b[38;5;28;43mfloat\u001b[39;49m\u001b[43m(\u001b[49m\u001b[38;5;124;43m\"\u001b[39;49m\u001b[38;5;124;43mTrue\u001b[39;49m\u001b[38;5;124;43m\"\u001b[39;49m\u001b[43m)\u001b[49m\n",
      "\u001b[0;31mValueError\u001b[0m: could not convert string to float: 'True'"
     ]
    }
   ],
   "source": [
    "# error\n",
    "float(\"True\") # string a float"
   ]
  },
  {
   "cell_type": "markdown",
   "id": "034fdb26",
   "metadata": {},
   "source": [
    "### Conversiones complex"
   ]
  },
  {
   "cell_type": "code",
   "execution_count": 107,
   "id": "c79c5329",
   "metadata": {},
   "outputs": [
    {
     "data": {
      "text/plain": [
       "(42+0j)"
      ]
     },
     "execution_count": 107,
     "metadata": {},
     "output_type": "execute_result"
    }
   ],
   "source": [
    "complex(42) # int a complex"
   ]
  },
  {
   "cell_type": "code",
   "execution_count": 108,
   "id": "89b172a1",
   "metadata": {},
   "outputs": [
    {
     "data": {
      "text/plain": [
       "(92.8+0j)"
      ]
     },
     "execution_count": 108,
     "metadata": {},
     "output_type": "execute_result"
    }
   ],
   "source": [
    "complex(92.8) # float a complex"
   ]
  },
  {
   "cell_type": "code",
   "execution_count": 109,
   "id": "483326ed",
   "metadata": {},
   "outputs": [
    {
     "data": {
      "text/plain": [
       "(1+0j)"
      ]
     },
     "execution_count": 109,
     "metadata": {},
     "output_type": "execute_result"
    }
   ],
   "source": [
    "complex(True) # bool a complex"
   ]
  },
  {
   "cell_type": "code",
   "execution_count": 110,
   "id": "fc3a9dca",
   "metadata": {},
   "outputs": [
    {
     "data": {
      "text/plain": [
       "0j"
      ]
     },
     "execution_count": 110,
     "metadata": {},
     "output_type": "execute_result"
    }
   ],
   "source": [
    "complex(False) # bool a complex"
   ]
  },
  {
   "cell_type": "code",
   "execution_count": 111,
   "id": "ac50beb2",
   "metadata": {},
   "outputs": [
    {
     "data": {
      "text/plain": [
       "(24+0j)"
      ]
     },
     "execution_count": 111,
     "metadata": {},
     "output_type": "execute_result"
    }
   ],
   "source": [
    "complex(\"24\") # string a complex"
   ]
  },
  {
   "cell_type": "code",
   "execution_count": 112,
   "id": "20e42df6",
   "metadata": {},
   "outputs": [
    {
     "data": {
      "text/plain": [
       "(24.67+0j)"
      ]
     },
     "execution_count": 112,
     "metadata": {},
     "output_type": "execute_result"
    }
   ],
   "source": [
    "complex(\"24.67\") # string a complex"
   ]
  },
  {
   "cell_type": "code",
   "execution_count": 113,
   "id": "6ad7af22",
   "metadata": {},
   "outputs": [
    {
     "ename": "ValueError",
     "evalue": "complex() arg is a malformed string",
     "output_type": "error",
     "traceback": [
      "\u001b[0;31m---------------------------------------------------------------------------\u001b[0m",
      "\u001b[0;31mValueError\u001b[0m                                Traceback (most recent call last)",
      "Input \u001b[0;32mIn [113]\u001b[0m, in \u001b[0;36m<cell line: 2>\u001b[0;34m()\u001b[0m\n\u001b[1;32m      1\u001b[0m \u001b[38;5;66;03m# error\u001b[39;00m\n\u001b[0;32m----> 2\u001b[0m \u001b[38;5;28;43mcomplex\u001b[39;49m\u001b[43m(\u001b[49m\u001b[38;5;124;43m\"\u001b[39;49m\u001b[38;5;124;43mBackend\u001b[39;49m\u001b[38;5;124;43m\"\u001b[39;49m\u001b[43m)\u001b[49m\n",
      "\u001b[0;31mValueError\u001b[0m: complex() arg is a malformed string"
     ]
    }
   ],
   "source": [
    "# error\n",
    "complex(\"Backend\") # string a complex"
   ]
  },
  {
   "cell_type": "code",
   "execution_count": 114,
   "id": "a763d65e",
   "metadata": {},
   "outputs": [
    {
     "ename": "ValueError",
     "evalue": "complex() arg is a malformed string",
     "output_type": "error",
     "traceback": [
      "\u001b[0;31m---------------------------------------------------------------------------\u001b[0m",
      "\u001b[0;31mValueError\u001b[0m                                Traceback (most recent call last)",
      "Input \u001b[0;32mIn [114]\u001b[0m, in \u001b[0;36m<cell line: 2>\u001b[0;34m()\u001b[0m\n\u001b[1;32m      1\u001b[0m \u001b[38;5;66;03m# error\u001b[39;00m\n\u001b[0;32m----> 2\u001b[0m \u001b[38;5;28;43mcomplex\u001b[39;49m\u001b[43m(\u001b[49m\u001b[38;5;124;43m\"\u001b[39;49m\u001b[38;5;124;43m10c\u001b[39;49m\u001b[38;5;124;43m\"\u001b[39;49m\u001b[43m)\u001b[49m\n",
      "\u001b[0;31mValueError\u001b[0m: complex() arg is a malformed string"
     ]
    }
   ],
   "source": [
    "# error\n",
    "complex(\"10c\") # string a complex"
   ]
  },
  {
   "cell_type": "code",
   "execution_count": 115,
   "id": "72be05f3",
   "metadata": {},
   "outputs": [
    {
     "data": {
      "text/plain": [
       "10j"
      ]
     },
     "execution_count": 115,
     "metadata": {},
     "output_type": "execute_result"
    }
   ],
   "source": [
    "complex(\"10j\") # string a complex"
   ]
  },
  {
   "cell_type": "code",
   "execution_count": 116,
   "id": "ff615d3f",
   "metadata": {},
   "outputs": [
    {
     "ename": "ValueError",
     "evalue": "complex() arg is a malformed string",
     "output_type": "error",
     "traceback": [
      "\u001b[0;31m---------------------------------------------------------------------------\u001b[0m",
      "\u001b[0;31mValueError\u001b[0m                                Traceback (most recent call last)",
      "Input \u001b[0;32mIn [116]\u001b[0m, in \u001b[0;36m<cell line: 2>\u001b[0;34m()\u001b[0m\n\u001b[1;32m      1\u001b[0m \u001b[38;5;66;03m# error\u001b[39;00m\n\u001b[0;32m----> 2\u001b[0m \u001b[38;5;28;43mcomplex\u001b[39;49m\u001b[43m(\u001b[49m\u001b[38;5;124;43m\"\u001b[39;49m\u001b[38;5;124;43m10i\u001b[39;49m\u001b[38;5;124;43m\"\u001b[39;49m\u001b[43m)\u001b[49m\n",
      "\u001b[0;31mValueError\u001b[0m: complex() arg is a malformed string"
     ]
    }
   ],
   "source": [
    "# error\n",
    "complex(\"10i\") # string a complex"
   ]
  },
  {
   "cell_type": "markdown",
   "id": "30034c5f",
   "metadata": {},
   "source": [
    "### Conversiones bool"
   ]
  },
  {
   "cell_type": "code",
   "execution_count": 117,
   "id": "88cfed9a",
   "metadata": {},
   "outputs": [
    {
     "data": {
      "text/plain": [
       "False"
      ]
     },
     "execution_count": 117,
     "metadata": {},
     "output_type": "execute_result"
    }
   ],
   "source": [
    "bool(0) # int a bool"
   ]
  },
  {
   "cell_type": "code",
   "execution_count": 118,
   "id": "af262fbd",
   "metadata": {},
   "outputs": [
    {
     "data": {
      "text/plain": [
       "True"
      ]
     },
     "execution_count": 118,
     "metadata": {},
     "output_type": "execute_result"
    }
   ],
   "source": [
    "bool(7) # int a bool"
   ]
  },
  {
   "cell_type": "code",
   "execution_count": 119,
   "id": "a34abf39",
   "metadata": {},
   "outputs": [
    {
     "data": {
      "text/plain": [
       "True"
      ]
     },
     "execution_count": 119,
     "metadata": {},
     "output_type": "execute_result"
    }
   ],
   "source": [
    "bool(1.8) # float a bool"
   ]
  },
  {
   "cell_type": "code",
   "execution_count": 120,
   "id": "3e70d4b4",
   "metadata": {},
   "outputs": [
    {
     "data": {
      "text/plain": [
       "True"
      ]
     },
     "execution_count": 120,
     "metadata": {},
     "output_type": "execute_result"
    }
   ],
   "source": [
    "bool(-1.8) # float a bool"
   ]
  },
  {
   "cell_type": "code",
   "execution_count": 121,
   "id": "bf63993f",
   "metadata": {},
   "outputs": [
    {
     "data": {
      "text/plain": [
       "False"
      ]
     },
     "execution_count": 121,
     "metadata": {},
     "output_type": "execute_result"
    }
   ],
   "source": [
    "bool(0.0) # float a bool"
   ]
  },
  {
   "cell_type": "code",
   "execution_count": 122,
   "id": "9d9ce22b",
   "metadata": {},
   "outputs": [
    {
     "data": {
      "text/plain": [
       "True"
      ]
     },
     "execution_count": 122,
     "metadata": {},
     "output_type": "execute_result"
    }
   ],
   "source": [
    "bool(0+3j) # complex a bool"
   ]
  },
  {
   "cell_type": "code",
   "execution_count": 123,
   "id": "cba3999f",
   "metadata": {},
   "outputs": [
    {
     "data": {
      "text/plain": [
       "False"
      ]
     },
     "execution_count": 123,
     "metadata": {},
     "output_type": "execute_result"
    }
   ],
   "source": [
    "bool(0+0j) # complex a bool"
   ]
  },
  {
   "cell_type": "code",
   "execution_count": 124,
   "id": "8bc52d52",
   "metadata": {},
   "outputs": [
    {
     "data": {
      "text/plain": [
       "True"
      ]
     },
     "execution_count": 124,
     "metadata": {},
     "output_type": "execute_result"
    }
   ],
   "source": [
    "bool(2+0j) # complex a bool"
   ]
  },
  {
   "cell_type": "code",
   "execution_count": 125,
   "id": "81911451",
   "metadata": {},
   "outputs": [
    {
     "data": {
      "text/plain": [
       "True"
      ]
     },
     "execution_count": 125,
     "metadata": {},
     "output_type": "execute_result"
    }
   ],
   "source": [
    "bool(\"python\") # string a bool"
   ]
  },
  {
   "cell_type": "code",
   "execution_count": 126,
   "id": "08793d6c",
   "metadata": {},
   "outputs": [
    {
     "data": {
      "text/plain": [
       "True"
      ]
     },
     "execution_count": 126,
     "metadata": {},
     "output_type": "execute_result"
    }
   ],
   "source": [
    "bool(\" \") # string a bool"
   ]
  },
  {
   "cell_type": "code",
   "execution_count": 127,
   "id": "cebfb918",
   "metadata": {},
   "outputs": [
    {
     "data": {
      "text/plain": [
       "False"
      ]
     },
     "execution_count": 127,
     "metadata": {},
     "output_type": "execute_result"
    }
   ],
   "source": [
    "bool(\"\") # string a bool"
   ]
  },
  {
   "cell_type": "code",
   "execution_count": 128,
   "id": "93fdd618",
   "metadata": {},
   "outputs": [
    {
     "data": {
      "text/plain": [
       "True"
      ]
     },
     "execution_count": 128,
     "metadata": {},
     "output_type": "execute_result"
    }
   ],
   "source": [
    "bool(\"0\") # string a bool"
   ]
  },
  {
   "cell_type": "markdown",
   "id": "7d5e3f51",
   "metadata": {},
   "source": [
    "### Conversiones str"
   ]
  },
  {
   "cell_type": "code",
   "execution_count": 129,
   "id": "0f7cdc61",
   "metadata": {},
   "outputs": [
    {
     "data": {
      "text/plain": [
       "'25'"
      ]
     },
     "execution_count": 129,
     "metadata": {},
     "output_type": "execute_result"
    }
   ],
   "source": [
    "str(25) # int a str"
   ]
  },
  {
   "cell_type": "code",
   "execution_count": 130,
   "id": "79f2ce03",
   "metadata": {},
   "outputs": [
    {
     "data": {
      "text/plain": [
       "'36.9'"
      ]
     },
     "execution_count": 130,
     "metadata": {},
     "output_type": "execute_result"
    }
   ],
   "source": [
    "str(36.9) # float a str"
   ]
  },
  {
   "cell_type": "code",
   "execution_count": 131,
   "id": "adfc214c",
   "metadata": {},
   "outputs": [
    {
     "data": {
      "text/plain": [
       "'(6+8j)'"
      ]
     },
     "execution_count": 131,
     "metadata": {},
     "output_type": "execute_result"
    }
   ],
   "source": [
    "str(6+8j) # complex a str"
   ]
  },
  {
   "cell_type": "code",
   "execution_count": 132,
   "id": "3e8f0ca4",
   "metadata": {},
   "outputs": [
    {
     "data": {
      "text/plain": [
       "'True'"
      ]
     },
     "execution_count": 132,
     "metadata": {},
     "output_type": "execute_result"
    }
   ],
   "source": [
    "str(True) # bool a str"
   ]
  },
  {
   "cell_type": "markdown",
   "id": "9723c03c",
   "metadata": {},
   "source": [
    "# Funciones Básicas"
   ]
  },
  {
   "cell_type": "markdown",
   "id": "a4fe7ff1",
   "metadata": {},
   "source": [
    "### trunc()"
   ]
  },
  {
   "cell_type": "code",
   "execution_count": 133,
   "id": "b0af0ed3",
   "metadata": {},
   "outputs": [
    {
     "name": "stdout",
     "output_type": "stream",
     "text": [
      "num_1:  64.99\n",
      "num_2:  64.5\n",
      "num_3:  64.51\n",
      "num_4:  64.00000000000001\n"
     ]
    }
   ],
   "source": [
    "num_1 = 64.99\n",
    "num_2 = 64.5\n",
    "num_3 = 64.51\n",
    "num_4 = 64.00000000000001\n",
    "print(\"num_1: \", num_1)\n",
    "print(\"num_2: \", num_2)\n",
    "print(\"num_3: \", num_3)\n",
    "print(\"num_4: \", num_4)"
   ]
  },
  {
   "cell_type": "code",
   "execution_count": 134,
   "id": "700418cb",
   "metadata": {},
   "outputs": [
    {
     "name": "stdout",
     "output_type": "stream",
     "text": [
      "trunc(num_1):  64\n",
      "trunc(num_2):  64\n",
      "trunc(num_3):  64\n",
      "trunc(num_4):  64\n"
     ]
    }
   ],
   "source": [
    "from math import trunc\n",
    "num_1 = 64.99\n",
    "num_2 = 64.5\n",
    "num_3 = 64.51\n",
    "num_4 = 64.00000000000001\n",
    "print(\"trunc(num_1): \", trunc(num_1))\n",
    "print(\"trunc(num_2): \", trunc(num_2))\n",
    "print(\"trunc(num_3): \", trunc(num_3))\n",
    "print(\"trunc(num_4): \", trunc(num_4))"
   ]
  },
  {
   "cell_type": "markdown",
   "id": "d53a3a05",
   "metadata": {},
   "source": [
    "### round(), ceil() y floor()"
   ]
  },
  {
   "cell_type": "code",
   "execution_count": 135,
   "id": "4cc6fb23",
   "metadata": {},
   "outputs": [
    {
     "name": "stdout",
     "output_type": "stream",
     "text": [
      "round(num_1):  65\n",
      "round(num_2):  64\n",
      "round(num_3):  65\n",
      "round(num_4):  64\n"
     ]
    }
   ],
   "source": [
    "# round\n",
    "num_1 = 64.99\n",
    "num_2 = 64.5\n",
    "num_3 = 64.51\n",
    "num_4 = 64.00000000000001\n",
    "print(\"round(num_1): \", round(num_1))\n",
    "print(\"round(num_2): \", round(num_2))\n",
    "print(\"round(num_3): \", round(num_3))\n",
    "print(\"round(num_4): \", round(num_4))"
   ]
  },
  {
   "cell_type": "code",
   "execution_count": 136,
   "id": "9d07e0f9",
   "metadata": {},
   "outputs": [
    {
     "name": "stdout",
     "output_type": "stream",
     "text": [
      "ceil(num_1):  65\n",
      "ceil(num_2):  65\n",
      "ceil(num_3):  65\n",
      "ceil(num_4):  65\n"
     ]
    }
   ],
   "source": [
    "# ceil - redondeo hacia arriba\n",
    "from math import ceil\n",
    "num_1 = 64.99\n",
    "num_2 = 64.5\n",
    "num_3 = 64.51\n",
    "num_4 = 64.00000000000001\n",
    "print(\"ceil(num_1): \", ceil(num_1))\n",
    "print(\"ceil(num_2): \", ceil(num_2))\n",
    "print(\"ceil(num_3): \", ceil(num_3))\n",
    "print(\"ceil(num_4): \", ceil(num_4))"
   ]
  },
  {
   "cell_type": "code",
   "execution_count": 137,
   "id": "7c09c9d4",
   "metadata": {},
   "outputs": [
    {
     "name": "stdout",
     "output_type": "stream",
     "text": [
      "floor(num_1):  64\n",
      "floor(num_2):  64\n",
      "floor(num_3):  64\n",
      "floor(num_4):  64\n"
     ]
    }
   ],
   "source": [
    "# floor - redondeo hacia abajo\n",
    "from math import floor\n",
    "num_1 = 64.99\n",
    "num_2 = 64.5\n",
    "num_3 = 64.51\n",
    "num_4 = 64.00000000000001\n",
    "print(\"floor(num_1): \", floor(num_1))\n",
    "print(\"floor(num_2): \", floor(num_2))\n",
    "print(\"floor(num_3): \", floor(num_3))\n",
    "print(\"floor(num_4): \", floor(num_4))"
   ]
  },
  {
   "cell_type": "markdown",
   "id": "2eb00b3c",
   "metadata": {},
   "source": [
    "### Función %"
   ]
  },
  {
   "cell_type": "code",
   "execution_count": 139,
   "id": "3d0abea5",
   "metadata": {},
   "outputs": [
    {
     "name": "stdout",
     "output_type": "stream",
     "text": [
      "'%.1f' % num_1:  65.0\n",
      "'%.3f' % num_2:  64.500\n",
      "'%.4f' % num_3:  64.5100\n",
      "'%.5f' % num_4:  64.00000\n"
     ]
    }
   ],
   "source": [
    "num_1 = 64.99\n",
    "num_2 = 64.5\n",
    "num_3 = 64.51\n",
    "num_4 = 64.00000000000001\n",
    "print(\"'%.1f' % num_1: \", '%.1f' % num_1)\n",
    "print(\"'%.3f' % num_2: \", '%.3f' % num_2)\n",
    "print(\"'%.4f' % num_3: \", '%.4f' % num_3)\n",
    "print(\"'%.5f' % num_4: \", '%.5f' % num_4)"
   ]
  },
  {
   "cell_type": "markdown",
   "id": "79a98645",
   "metadata": {},
   "source": [
    "### format()"
   ]
  },
  {
   "cell_type": "code",
   "execution_count": 141,
   "id": "604d3679",
   "metadata": {},
   "outputs": [
    {
     "name": "stdout",
     "output_type": "stream",
     "text": [
      "'{:.1f}'.format(num_1):  65.0\n",
      "'{:.3f}'.format(num_2):  64.500\n",
      "'{:.4f}'.format(num_3):  64.5100\n",
      "'{:.5f}'.format(num_4):  64.00000\n"
     ]
    }
   ],
   "source": [
    "num_1 = 64.99\n",
    "num_2 = 64.5\n",
    "num_3 = 64.51\n",
    "num_4 = 64.00000000000001\n",
    "print(\"'{:.1f}'.format(num_1): \", '{:.1f}'.format(num_1))\n",
    "print(\"'{:.3f}'.format(num_2): \", '{:.3f}'.format(num_2))\n",
    "print(\"'{:.4f}'.format(num_3): \", '{:.4f}'.format(num_3))\n",
    "print(\"'{:.5f}'.format(num_4): \", '{:.5f}'.format(num_4))"
   ]
  },
  {
   "cell_type": "code",
   "execution_count": null,
   "id": "6099308e",
   "metadata": {},
   "outputs": [],
   "source": []
  }
 ],
 "metadata": {
  "kernelspec": {
   "display_name": "Python 3 (ipykernel)",
   "language": "python",
   "name": "python3"
  },
  "language_info": {
   "codemirror_mode": {
    "name": "ipython",
    "version": 3
   },
   "file_extension": ".py",
   "mimetype": "text/x-python",
   "name": "python",
   "nbconvert_exporter": "python",
   "pygments_lexer": "ipython3",
   "version": "3.9.12"
  }
 },
 "nbformat": 4,
 "nbformat_minor": 5
}
