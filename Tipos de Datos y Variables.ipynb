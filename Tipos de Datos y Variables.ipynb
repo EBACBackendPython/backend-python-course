{
 "cells": [
  {
   "cell_type": "markdown",
   "id": "4471404c",
   "metadata": {},
   "source": [
    "# Panorama\n",
    "\n",
    "int - Integer/Enteros\n",
    "\n",
    "float - Float/Números con Decimales\n",
    "\n",
    "complex - Complex/Complejos (Números con una parte real y una imaginaria)\n",
    "\n",
    "bool - Boolean (True/False) /Valores Lógicos (Verdadero/Falso)\n",
    "\n",
    "str - Strings / Cadenas, Textos"
   ]
  },
  {
   "cell_type": "markdown",
   "id": "fd60dc6e",
   "metadata": {},
   "source": [
    "# int - Integers/Enteros"
   ]
  },
  {
   "cell_type": "code",
   "execution_count": 1,
   "id": "a503e66e",
   "metadata": {},
   "outputs": [
    {
     "name": "stdout",
     "output_type": "stream",
     "text": [
      "El valor de my_integer es:  11\n",
      "El tipo de dato de my_integer es:  <class 'int'>\n"
     ]
    }
   ],
   "source": [
    "my_integer = 11\n",
    "print(\"El valor de my_integer es: \", my_integer)\n",
    "print(\"El tipo de dato de my_integer es: \", type(my_integer))"
   ]
  },
  {
   "cell_type": "code",
   "execution_count": 2,
   "id": "81155ad4",
   "metadata": {},
   "outputs": [
    {
     "name": "stdout",
     "output_type": "stream",
     "text": [
      "El valor de my_integer es:  2022\n",
      "El tipo de dato de my_integer es:  <class 'int'>\n"
     ]
    }
   ],
   "source": [
    "my_integer = 2022\n",
    "print(\"El valor de my_integer es: \", my_integer)\n",
    "print(\"El tipo de dato de my_integer es: \", type(my_integer))"
   ]
  },
  {
   "cell_type": "code",
   "execution_count": 3,
   "id": "23305ca0",
   "metadata": {},
   "outputs": [
    {
     "name": "stdout",
     "output_type": "stream",
     "text": [
      "El valor de my_integer es:  57831\n",
      "El tipo de dato de my_integer es:  <class 'int'>\n"
     ]
    }
   ],
   "source": [
    "my_integer = 57831\n",
    "print(\"El valor de my_integer es: \", my_integer)\n",
    "print(\"El tipo de dato de my_integer es: \", type(my_integer))"
   ]
  },
  {
   "cell_type": "code",
   "execution_count": 4,
   "id": "2157e121",
   "metadata": {},
   "outputs": [
    {
     "ename": "SyntaxError",
     "evalue": "invalid syntax (898553424.py, line 2)",
     "output_type": "error",
     "traceback": [
      "\u001b[0;36m  Input \u001b[0;32mIn [4]\u001b[0;36m\u001b[0m\n\u001b[0;31m    my_integer = 57831d\u001b[0m\n\u001b[0m                      ^\u001b[0m\n\u001b[0;31mSyntaxError\u001b[0m\u001b[0;31m:\u001b[0m invalid syntax\n"
     ]
    }
   ],
   "source": [
    "# error\n",
    "my_integer = 57831d\n",
    "print(\"El valor de my_integer es: \", my_integer)\n",
    "print(\"El tipo de dato de my_integer es: \", type(my_integer))"
   ]
  },
  {
   "cell_type": "code",
   "execution_count": 5,
   "id": "1dc9e7f3",
   "metadata": {},
   "outputs": [
    {
     "ename": "SyntaxError",
     "evalue": "invalid syntax (231366446.py, line 2)",
     "output_type": "error",
     "traceback": [
      "\u001b[0;36m  Input \u001b[0;32mIn [5]\u001b[0;36m\u001b[0m\n\u001b[0;31m    my_integer = 57831@\u001b[0m\n\u001b[0m                       ^\u001b[0m\n\u001b[0;31mSyntaxError\u001b[0m\u001b[0;31m:\u001b[0m invalid syntax\n"
     ]
    }
   ],
   "source": [
    "# error\n",
    "my_integer = 57831@\n",
    "print(\"El valor de my_integer es: \", my_integer)\n",
    "print(\"El tipo de dato de my_integer es: \", type(my_integer))"
   ]
  },
  {
   "cell_type": "markdown",
   "id": "0c5b90cf",
   "metadata": {},
   "source": [
    "# float - Float/Números con Decimales"
   ]
  },
  {
   "cell_type": "code",
   "execution_count": 6,
   "id": "36335426",
   "metadata": {},
   "outputs": [
    {
     "name": "stdout",
     "output_type": "stream",
     "text": [
      "El valor de my_float es:  11.1\n",
      "El tipo de dato de my_float es:  <class 'float'>\n"
     ]
    }
   ],
   "source": [
    "my_float = 11.1\n",
    "print(\"El valor de my_float es: \", my_float)\n",
    "print(\"El tipo de dato de my_float es: \", type(my_float))"
   ]
  },
  {
   "cell_type": "code",
   "execution_count": 7,
   "id": "a565d044",
   "metadata": {},
   "outputs": [
    {
     "name": "stdout",
     "output_type": "stream",
     "text": [
      "El valor de my_float es:  11.0\n",
      "El tipo de dato de my_float es:  <class 'float'>\n"
     ]
    }
   ],
   "source": [
    "# error\n",
    "my_float = 11.0\n",
    "print(\"El valor de my_float es: \", my_float)\n",
    "print(\"El tipo de dato de my_float es: \", type(my_float))"
   ]
  },
  {
   "cell_type": "code",
   "execution_count": 8,
   "id": "0585e35c",
   "metadata": {},
   "outputs": [
    {
     "ename": "SyntaxError",
     "evalue": "invalid syntax (2510871764.py, line 1)",
     "output_type": "error",
     "traceback": [
      "\u001b[0;36m  Input \u001b[0;32mIn [8]\u001b[0;36m\u001b[0m\n\u001b[0;31m    my_float = 11.0h\u001b[0m\n\u001b[0m                   ^\u001b[0m\n\u001b[0;31mSyntaxError\u001b[0m\u001b[0;31m:\u001b[0m invalid syntax\n"
     ]
    }
   ],
   "source": [
    "# error\n",
    "my_float = 11.0h\n",
    "print(\"El valor de my_float es: \", my_float)\n",
    "print(\"El tipo de dato de my_float es: \", type(my_float))"
   ]
  },
  {
   "cell_type": "code",
   "execution_count": 9,
   "id": "a6277f2a",
   "metadata": {},
   "outputs": [
    {
     "name": "stdout",
     "output_type": "stream",
     "text": [
      "El valor de my_float es:  2000.0\n",
      "El tipo de dato de my_float es:  <class 'float'>\n"
     ]
    }
   ],
   "source": [
    "# notación científica\n",
    "my_float = 2e3 # 2.0*10**3\n",
    "print(\"El valor de my_float es: \", my_float)\n",
    "print(\"El tipo de dato de my_float es: \", type(my_float))"
   ]
  },
  {
   "cell_type": "code",
   "execution_count": 10,
   "id": "b12cf8d6",
   "metadata": {},
   "outputs": [
    {
     "data": {
      "text/plain": [
       "1.1"
      ]
     },
     "execution_count": 10,
     "metadata": {},
     "output_type": "execute_result"
    }
   ],
   "source": [
    "1.1"
   ]
  },
  {
   "cell_type": "code",
   "execution_count": 11,
   "id": "5e727136",
   "metadata": {},
   "outputs": [
    {
     "data": {
      "text/plain": [
       "1.1"
      ]
     },
     "execution_count": 11,
     "metadata": {},
     "output_type": "execute_result"
    }
   ],
   "source": [
    "1.1e0 # 1.1 * 10**0"
   ]
  },
  {
   "cell_type": "code",
   "execution_count": 12,
   "id": "8b159912",
   "metadata": {},
   "outputs": [
    {
     "data": {
      "text/plain": [
       "11.0"
      ]
     },
     "execution_count": 12,
     "metadata": {},
     "output_type": "execute_result"
    }
   ],
   "source": [
    "1.1e1 # 1.1 * 10**1"
   ]
  },
  {
   "cell_type": "code",
   "execution_count": 13,
   "id": "15559730",
   "metadata": {},
   "outputs": [
    {
     "data": {
      "text/plain": [
       "110.0"
      ]
     },
     "execution_count": 13,
     "metadata": {},
     "output_type": "execute_result"
    }
   ],
   "source": [
    "1.1e2 # 1.1 * 10**2"
   ]
  },
  {
   "cell_type": "code",
   "execution_count": 14,
   "id": "1dd99603",
   "metadata": {},
   "outputs": [
    {
     "data": {
      "text/plain": [
       "1100.0"
      ]
     },
     "execution_count": 14,
     "metadata": {},
     "output_type": "execute_result"
    }
   ],
   "source": [
    "1.1e3 # 1.1 * 10**3"
   ]
  },
  {
   "cell_type": "code",
   "execution_count": 15,
   "id": "361a8c56",
   "metadata": {},
   "outputs": [
    {
     "data": {
      "text/plain": [
       "0.08"
      ]
     },
     "execution_count": 15,
     "metadata": {},
     "output_type": "execute_result"
    }
   ],
   "source": [
    "8e-2 # 8 * 10**-2"
   ]
  },
  {
   "cell_type": "markdown",
   "id": "84cd8a53",
   "metadata": {},
   "source": [
    "# complex - Complex/Complejos (Números con una parte real y una imaginaria)\n",
    "\n",
    "complex = x + yj\n",
    "\n",
    "x = parte real\n",
    "\n",
    "yj = parte imaginaria"
   ]
  },
  {
   "cell_type": "code",
   "execution_count": 16,
   "id": "f64c1646",
   "metadata": {},
   "outputs": [
    {
     "name": "stdout",
     "output_type": "stream",
     "text": [
      "El valor de my_complex es:  (3+9j)\n",
      "El tipo de dato de my_complex es:  <class 'complex'>\n"
     ]
    }
   ],
   "source": [
    "my_complex = 3 + 9j\n",
    "print(\"El valor de my_complex es: \", my_complex)\n",
    "print(\"El tipo de dato de my_complex es: \", type(my_complex))"
   ]
  },
  {
   "cell_type": "code",
   "execution_count": 17,
   "id": "fd8e4946",
   "metadata": {},
   "outputs": [
    {
     "name": "stdout",
     "output_type": "stream",
     "text": [
      "El valor de my_complex es:  (2+5j)\n",
      "El tipo de dato de my_complex es:  <class 'complex'>\n"
     ]
    }
   ],
   "source": [
    "my_complex = 2 + 5j\n",
    "print(\"El valor de my_complex es: \", my_complex)\n",
    "print(\"El tipo de dato de my_complex es: \", type(my_complex))"
   ]
  },
  {
   "cell_type": "markdown",
   "id": "695391f9",
   "metadata": {},
   "source": [
    "# bool - Boolean (True/False) /Valores Lógicos (Verdadero/Falso)"
   ]
  },
  {
   "cell_type": "code",
   "execution_count": 18,
   "id": "bd77b56f",
   "metadata": {},
   "outputs": [
    {
     "name": "stdout",
     "output_type": "stream",
     "text": [
      "El valor de my_boolean es:  False\n",
      "El tipo de dato de my_boolean es:  <class 'bool'>\n"
     ]
    }
   ],
   "source": [
    "my_boolean = False\n",
    "print(\"El valor de my_boolean es: \", my_boolean)\n",
    "print(\"El tipo de dato de my_boolean es: \", type(my_boolean))"
   ]
  },
  {
   "cell_type": "code",
   "execution_count": 19,
   "id": "c095d727",
   "metadata": {},
   "outputs": [
    {
     "name": "stdout",
     "output_type": "stream",
     "text": [
      "El valor de my_boolean es:  True\n",
      "El tipo de dato de my_boolean es:  <class 'bool'>\n"
     ]
    }
   ],
   "source": [
    "my_boolean = True\n",
    "print(\"El valor de my_boolean es: \", my_boolean)\n",
    "print(\"El tipo de dato de my_boolean es: \", type(my_boolean))"
   ]
  },
  {
   "cell_type": "code",
   "execution_count": 20,
   "id": "49f3c5e4",
   "metadata": {},
   "outputs": [],
   "source": [
    "# True = 1\n",
    "# False = 0"
   ]
  },
  {
   "cell_type": "code",
   "execution_count": 21,
   "id": "f37c41e1",
   "metadata": {},
   "outputs": [
    {
     "name": "stdout",
     "output_type": "stream",
     "text": [
      "3\n"
     ]
    }
   ],
   "source": [
    "# 3\n",
    "print(True+True+True)"
   ]
  },
  {
   "cell_type": "code",
   "execution_count": 22,
   "id": "0d867b46",
   "metadata": {},
   "outputs": [
    {
     "name": "stdout",
     "output_type": "stream",
     "text": [
      "0\n"
     ]
    }
   ],
   "source": [
    "# 0\n",
    "print(False+False+False)"
   ]
  },
  {
   "cell_type": "code",
   "execution_count": 23,
   "id": "879088c2",
   "metadata": {},
   "outputs": [
    {
     "name": "stdout",
     "output_type": "stream",
     "text": [
      "2\n"
     ]
    }
   ],
   "source": [
    "# 2\n",
    "print(True+False+True)"
   ]
  },
  {
   "cell_type": "code",
   "execution_count": 24,
   "id": "fe371db5",
   "metadata": {},
   "outputs": [
    {
     "name": "stdout",
     "output_type": "stream",
     "text": [
      "1\n"
     ]
    }
   ],
   "source": [
    "# 1\n",
    "print(True-True+True)"
   ]
  },
  {
   "cell_type": "code",
   "execution_count": 25,
   "id": "c76210a0",
   "metadata": {},
   "outputs": [
    {
     "name": "stdout",
     "output_type": "stream",
     "text": [
      "-2\n"
     ]
    }
   ],
   "source": [
    "# -2\n",
    "print(False-True-True)"
   ]
  },
  {
   "cell_type": "markdown",
   "id": "01f56dca",
   "metadata": {},
   "source": [
    "# str - String / Cadenas, Textos"
   ]
  },
  {
   "cell_type": "code",
   "execution_count": 26,
   "id": "265c7f01",
   "metadata": {},
   "outputs": [
    {
     "name": "stdout",
     "output_type": "stream",
     "text": [
      "El valor de my_string es:  Backend Python\n",
      "El tipo de dato de my_string es:  <class 'str'>\n"
     ]
    }
   ],
   "source": [
    "my_string = \"Backend Python\"\n",
    "print(\"El valor de my_string es: \", my_string)\n",
    "print(\"El tipo de dato de my_string es: \", type(my_string))"
   ]
  },
  {
   "cell_type": "code",
   "execution_count": 27,
   "id": "77eae96b",
   "metadata": {},
   "outputs": [
    {
     "name": "stdout",
     "output_type": "stream",
     "text": [
      "El valor de my_string es:  Curso de EBAC\n",
      "El tipo de dato de my_string es:  <class 'str'>\n"
     ]
    }
   ],
   "source": [
    "my_string = \"Curso de EBAC\"\n",
    "print(\"El valor de my_string es: \", my_string)\n",
    "print(\"El tipo de dato de my_string es: \", type(my_string))"
   ]
  },
  {
   "cell_type": "code",
   "execution_count": 28,
   "id": "dc97fd78",
   "metadata": {},
   "outputs": [
    {
     "name": "stdout",
     "output_type": "stream",
     "text": [
      "El valor de my_string es:  Aprendiendo a usar strings/cadenas/textos\n",
      "El tipo de dato de my_string es:  <class 'str'>\n"
     ]
    }
   ],
   "source": [
    "my_string = \"Aprendiendo a usar strings/cadenas/textos\"\n",
    "print(\"El valor de my_string es: \", my_string)\n",
    "print(\"El tipo de dato de my_string es: \", type(my_string))"
   ]
  },
  {
   "cell_type": "code",
   "execution_count": 29,
   "id": "ca43936a",
   "metadata": {},
   "outputs": [
    {
     "ename": "SyntaxError",
     "evalue": "invalid syntax (18993320.py, line 1)",
     "output_type": "error",
     "traceback": [
      "\u001b[0;36m  Input \u001b[0;32mIn [29]\u001b[0;36m\u001b[0m\n\u001b[0;31m    my_string = 'You're amazing'\u001b[0m\n\u001b[0m                     ^\u001b[0m\n\u001b[0;31mSyntaxError\u001b[0m\u001b[0;31m:\u001b[0m invalid syntax\n"
     ]
    }
   ],
   "source": [
    "my_string = 'You're amazing'\n",
    "print(\"El valor de my_string es: \", my_string)\n",
    "print(\"El tipo de dato de my_string es: \", type(my_string))"
   ]
  },
  {
   "cell_type": "code",
   "execution_count": 30,
   "id": "96c77fb7",
   "metadata": {},
   "outputs": [
    {
     "name": "stdout",
     "output_type": "stream",
     "text": [
      "El valor de my_string es:  \n",
      "Es una cadena con múltiples líneas\n",
      "\n",
      "Como puedes ver es genial para textos más largos\n",
      "\n",
      "¿Puedes imaginar cuántas cosas podrías hacer manejando texto de Internet?\n",
      "\n",
      "El tipo de dato de my_string es:  <class 'str'>\n"
     ]
    }
   ],
   "source": [
    "my_string = \"\"\"\n",
    "Es una cadena con múltiples líneas\\n\n",
    "Como puedes ver es genial para textos más largos\\n\n",
    "¿Puedes imaginar cuántas cosas podrías hacer manejando texto de Internet?\n",
    "\"\"\"\n",
    "print(\"El valor de my_string es: \", my_string)\n",
    "print(\"El tipo de dato de my_string es: \", type(my_string))"
   ]
  },
  {
   "cell_type": "markdown",
   "id": "654a3c0d",
   "metadata": {},
   "source": [
    "# Variables\n",
    "\n",
    "### ¿Qué es una variable?\n",
    "- Son un espacio temporal para guardar un valor con un nombre específico\n",
    "- No hay necesidad de declarar el tipo de dato explícitamente\n",
    "- Python es un lenguaje tipado dinámicamente, lo que quiere decir que el tipo de dato se define mientras corre el programa\n",
    "- Las variables en Python funcionan diferente que otros Lenguajes de Programación\n",
    "- No necesitamos crear variable, solo asignamos un nombre a un valor usando el operador de asignación\n",
    "\n",
    "### Tipos de variables:\n",
    "- Variables Globales: aquellas que se utilizarán para todo el programa\n",
    "- Variables Locales: aquellas que se van a utilizar solo en un bloque específico"
   ]
  },
  {
   "cell_type": "markdown",
   "id": "9f69e00f",
   "metadata": {},
   "source": [
    "# Variables Globales\n",
    "- Declaramos variables globales afuera de funciones\n",
    "- El valor de la variable puede ser constante para todo el programa\n",
    "- Cualquier función podrá acceder a estas variables\n",
    "- Podemos decir que las Variables Globales tienen un alcance global\n",
    "- Normalmente son más usadas para constantes\n",
    "- Las Variables Globales mantienen sus valores a través de la ejecución completa de tu programa\n",
    "- Una Variable Global puede ser accesada por cualquier función"
   ]
  },
  {
   "cell_type": "code",
   "execution_count": 31,
   "id": "03849a2d",
   "metadata": {},
   "outputs": [],
   "source": [
    "# Variable Global\n",
    "my_global_variable=50\n",
    "\n",
    "def my_function_1():\n",
    "    pass\n",
    "\n",
    "def my_function_2():\n",
    "    pass"
   ]
  },
  {
   "cell_type": "code",
   "execution_count": 32,
   "id": "0eee9539",
   "metadata": {},
   "outputs": [],
   "source": [
    "# Variables Locales\n",
    "def my_function_1():\n",
    "    my_local_variable=5\n",
    "\n",
    "def my_function_2():\n",
    "    my_local_variable=35"
   ]
  },
  {
   "cell_type": "code",
   "execution_count": 33,
   "id": "5bb11c9d",
   "metadata": {},
   "outputs": [],
   "source": [
    "# Variable Global\n",
    "my_global_variable=50\n",
    "\n",
    "def my_function_1():\n",
    "    print(\"my_function_1 - El valor de my_global_variable es: \", my_global_variable)\n",
    "\n",
    "def my_function_2():\n",
    "    print(\"my_function_2 - El valor de my_global_variable es: \", my_global_variable)"
   ]
  },
  {
   "cell_type": "code",
   "execution_count": 34,
   "id": "3f595d33",
   "metadata": {},
   "outputs": [
    {
     "name": "stdout",
     "output_type": "stream",
     "text": [
      "my_function_1 - El valor de my_global_variable es:  50\n"
     ]
    }
   ],
   "source": [
    "my_function_1()"
   ]
  },
  {
   "cell_type": "code",
   "execution_count": 35,
   "id": "d6df0736",
   "metadata": {},
   "outputs": [
    {
     "name": "stdout",
     "output_type": "stream",
     "text": [
      "my_function_2 - El valor de my_global_variable es:  50\n"
     ]
    }
   ],
   "source": [
    "my_function_2()"
   ]
  },
  {
   "cell_type": "code",
   "execution_count": 36,
   "id": "dd121545",
   "metadata": {},
   "outputs": [],
   "source": [
    "# Preferenica al valor local, y después al global\n",
    "my_variable=50 # Global\n",
    "\n",
    "def my_function_1():\n",
    "    my_variable=10 # Local\n",
    "    print(\"my_function_1 - El valor de my_variable es: \", my_variable)\n",
    "\n",
    "def my_function_2():\n",
    "    my_variable=20 # Local\n",
    "    print(\"my_function_2 - El valor de my_variable es: \", my_variable)\n",
    "    \n",
    "def my_function_3():\n",
    "    print(\"my_function_3 - El valor de my_variable es: \", my_variable)"
   ]
  },
  {
   "cell_type": "code",
   "execution_count": 37,
   "id": "c28dbe34",
   "metadata": {},
   "outputs": [
    {
     "name": "stdout",
     "output_type": "stream",
     "text": [
      "my_function_1 - El valor de my_variable es:  10\n"
     ]
    }
   ],
   "source": [
    "my_function_1()"
   ]
  },
  {
   "cell_type": "code",
   "execution_count": 38,
   "id": "05da98d3",
   "metadata": {},
   "outputs": [
    {
     "name": "stdout",
     "output_type": "stream",
     "text": [
      "my_function_2 - El valor de my_variable es:  20\n"
     ]
    }
   ],
   "source": [
    "my_function_2()"
   ]
  },
  {
   "cell_type": "code",
   "execution_count": 39,
   "id": "ad16dafa",
   "metadata": {},
   "outputs": [
    {
     "name": "stdout",
     "output_type": "stream",
     "text": [
      "my_function_3 - El valor de my_variable es:  50\n"
     ]
    }
   ],
   "source": [
    "my_function_3()"
   ]
  },
  {
   "cell_type": "markdown",
   "id": "c08a887d",
   "metadata": {},
   "source": [
    "# Variables Locales\n",
    "- Podemos usarlas dentro de una función\n",
    "- Podemos tener una restricción al acceder a una variable local desde otra función\n",
    "- No podemos usarlas durante todo el programa\n",
    "- El alcance y visibilidad se limita al interior de la función\n",
    "- Lo que dure la función será lo que dure el alcance de nuestra variable"
   ]
  },
  {
   "cell_type": "code",
   "execution_count": 40,
   "id": "534f8a8a",
   "metadata": {},
   "outputs": [],
   "source": [
    "# Variable Global\n",
    "my_global_variable=50\n",
    "\n",
    "def my_function_1():\n",
    "    pass\n",
    "\n",
    "def my_function_2():\n",
    "    pass"
   ]
  },
  {
   "cell_type": "code",
   "execution_count": 41,
   "id": "519ff123",
   "metadata": {},
   "outputs": [],
   "source": [
    "# Variables Locales\n",
    "def my_function_1():\n",
    "    my_local_variable=5\n",
    "\n",
    "def my_function_2():\n",
    "    my_local_variable=35"
   ]
  },
  {
   "cell_type": "code",
   "execution_count": 1,
   "id": "35d0da8e",
   "metadata": {},
   "outputs": [],
   "source": [
    "def my_function_1():\n",
    "    my_variable=10 # Local\n",
    "    print(\"my_function_1 - El valor de my_variable es: \", my_variable)\n",
    "\n",
    "def my_function_2():\n",
    "    my_variable=20 # Local\n",
    "    print(\"my_function_2 - El valor de my_variable es: \", my_variable)\n",
    "    \n",
    "def my_function_3():\n",
    "    print(\"my_function_3 - El valor de my_variable es: \", my_variable)"
   ]
  },
  {
   "cell_type": "code",
   "execution_count": 2,
   "id": "f691d56c",
   "metadata": {},
   "outputs": [
    {
     "name": "stdout",
     "output_type": "stream",
     "text": [
      "my_function_1 - El valor de my_variable es:  10\n"
     ]
    }
   ],
   "source": [
    "my_function_1()"
   ]
  },
  {
   "cell_type": "code",
   "execution_count": 3,
   "id": "41dc94ef",
   "metadata": {},
   "outputs": [
    {
     "name": "stdout",
     "output_type": "stream",
     "text": [
      "my_function_2 - El valor de my_variable es:  20\n"
     ]
    }
   ],
   "source": [
    "my_function_2()"
   ]
  },
  {
   "cell_type": "code",
   "execution_count": 4,
   "id": "201a865e",
   "metadata": {},
   "outputs": [
    {
     "ename": "NameError",
     "evalue": "name 'my_variable' is not defined",
     "output_type": "error",
     "traceback": [
      "\u001b[0;31m---------------------------------------------------------------------------\u001b[0m",
      "\u001b[0;31mNameError\u001b[0m                                 Traceback (most recent call last)",
      "Input \u001b[0;32mIn [4]\u001b[0m, in \u001b[0;36m<cell line: 2>\u001b[0;34m()\u001b[0m\n\u001b[1;32m      1\u001b[0m \u001b[38;5;66;03m# error\u001b[39;00m\n\u001b[0;32m----> 2\u001b[0m \u001b[43mmy_function_3\u001b[49m\u001b[43m(\u001b[49m\u001b[43m)\u001b[49m\n",
      "Input \u001b[0;32mIn [1]\u001b[0m, in \u001b[0;36mmy_function_3\u001b[0;34m()\u001b[0m\n\u001b[1;32m      9\u001b[0m \u001b[38;5;28;01mdef\u001b[39;00m \u001b[38;5;21mmy_function_3\u001b[39m():\n\u001b[0;32m---> 10\u001b[0m     \u001b[38;5;28mprint\u001b[39m(\u001b[38;5;124m\"\u001b[39m\u001b[38;5;124mmy_function_3 - El valor de my_variable es: \u001b[39m\u001b[38;5;124m\"\u001b[39m, \u001b[43mmy_variable\u001b[49m)\n",
      "\u001b[0;31mNameError\u001b[0m: name 'my_variable' is not defined"
     ]
    }
   ],
   "source": [
    "# error\n",
    "my_function_3()"
   ]
  },
  {
   "cell_type": "markdown",
   "id": "2c4feb98",
   "metadata": {},
   "source": [
    "# Palabra reservada \"global\""
   ]
  },
  {
   "cell_type": "code",
   "execution_count": 5,
   "id": "0f84e914",
   "metadata": {},
   "outputs": [],
   "source": [
    "def my_function_1():\n",
    "    my_variable=10 # Local\n",
    "    print(\"my_function_1 - El valor de my_variable es: \", my_variable)\n",
    "\n",
    "def my_function_2():\n",
    "    global my_variable # Global\n",
    "    my_variable=20 \n",
    "    print(\"my_function_2 - El valor de my_variable es: \", my_variable)\n",
    "    \n",
    "def my_function_3():\n",
    "    print(\"my_function_3 - El valor de my_variable es: \", my_variable)"
   ]
  },
  {
   "cell_type": "code",
   "execution_count": 6,
   "id": "566fbb6e",
   "metadata": {},
   "outputs": [
    {
     "name": "stdout",
     "output_type": "stream",
     "text": [
      "my_function_1 - El valor de my_variable es:  10\n"
     ]
    }
   ],
   "source": [
    "my_function_1()"
   ]
  },
  {
   "cell_type": "code",
   "execution_count": 7,
   "id": "7843a9f8",
   "metadata": {},
   "outputs": [
    {
     "name": "stdout",
     "output_type": "stream",
     "text": [
      "my_function_2 - El valor de my_variable es:  20\n"
     ]
    }
   ],
   "source": [
    "my_function_2()"
   ]
  },
  {
   "cell_type": "code",
   "execution_count": 8,
   "id": "55569a7a",
   "metadata": {},
   "outputs": [
    {
     "name": "stdout",
     "output_type": "stream",
     "text": [
      "my_function_3 - El valor de my_variable es:  20\n"
     ]
    }
   ],
   "source": [
    "my_function_3()"
   ]
  },
  {
   "cell_type": "code",
   "execution_count": 9,
   "id": "9d2ece7d",
   "metadata": {},
   "outputs": [],
   "source": [
    "def my_function_1():\n",
    "    my_variable=10 # Local\n",
    "    print(\"my_function_1 - El valor de my_variable es: \", my_variable)\n",
    "\n",
    "def my_function_2():\n",
    "    global a, b, c, d, e # Global\n",
    "    a=10\n",
    "    b=20\n",
    "    c=30\n",
    "    d=40\n",
    "    e=50\n",
    "    print(\"my_function_2 - El valor de a es: \", a)\n",
    "    print(\"my_function_2 - El valor de b es: \", b)\n",
    "    print(\"my_function_2 - El valor de c es: \", c)\n",
    "    print(\"my_function_2 - El valor de d es: \", d)\n",
    "    print(\"my_function_2 - El valor de e es: \", e)\n",
    "    \n",
    "def my_function_3():\n",
    "    print(\"my_function_2 - El valor de a es: \", a)\n",
    "    print(\"my_function_2 - El valor de b es: \", b)\n",
    "    print(\"my_function_2 - El valor de c es: \", c)\n",
    "    print(\"my_function_2 - El valor de d es: \", d)\n",
    "    print(\"my_function_2 - El valor de e es: \", e)"
   ]
  },
  {
   "cell_type": "code",
   "execution_count": 10,
   "id": "2653f60a",
   "metadata": {},
   "outputs": [
    {
     "name": "stdout",
     "output_type": "stream",
     "text": [
      "my_function_1 - El valor de my_variable es:  10\n"
     ]
    }
   ],
   "source": [
    "my_function_1()"
   ]
  },
  {
   "cell_type": "code",
   "execution_count": 11,
   "id": "a085a649",
   "metadata": {},
   "outputs": [
    {
     "name": "stdout",
     "output_type": "stream",
     "text": [
      "my_function_2 - El valor de a es:  10\n",
      "my_function_2 - El valor de b es:  20\n",
      "my_function_2 - El valor de c es:  30\n",
      "my_function_2 - El valor de d es:  40\n",
      "my_function_2 - El valor de e es:  50\n"
     ]
    }
   ],
   "source": [
    "my_function_2()"
   ]
  },
  {
   "cell_type": "code",
   "execution_count": 12,
   "id": "d5e378cb",
   "metadata": {},
   "outputs": [
    {
     "name": "stdout",
     "output_type": "stream",
     "text": [
      "my_function_2 - El valor de a es:  10\n",
      "my_function_2 - El valor de b es:  20\n",
      "my_function_2 - El valor de c es:  30\n",
      "my_function_2 - El valor de d es:  40\n",
      "my_function_2 - El valor de e es:  50\n"
     ]
    }
   ],
   "source": [
    "my_function_3()"
   ]
  },
  {
   "cell_type": "markdown",
   "id": "e087d432",
   "metadata": {},
   "source": [
    "# Tipos de Enteros\n",
    "- Forma Decimal\n",
    "- Forma Binaria\n",
    "- Forma Octal\n",
    "- Formal Hexadecimal"
   ]
  },
  {
   "cell_type": "markdown",
   "id": "d20b4d17",
   "metadata": {},
   "source": [
    "# Forma Decimal"
   ]
  },
  {
   "cell_type": "code",
   "execution_count": 13,
   "id": "92e53511",
   "metadata": {},
   "outputs": [
    {
     "name": "stdout",
     "output_type": "stream",
     "text": [
      "El valor de my_decimal_number es:  55\n"
     ]
    }
   ],
   "source": [
    "my_decimal_number = 55\n",
    "print(\"El valor de my_decimal_number es: \", my_decimal_number)"
   ]
  },
  {
   "cell_type": "code",
   "execution_count": 14,
   "id": "e6373a51",
   "metadata": {},
   "outputs": [
    {
     "name": "stdout",
     "output_type": "stream",
     "text": [
      "El valor de my_decimal_number es:  512731625128341\n"
     ]
    }
   ],
   "source": [
    "my_decimal_number = 512731625128341\n",
    "print(\"El valor de my_decimal_number es: \", my_decimal_number)"
   ]
  },
  {
   "cell_type": "code",
   "execution_count": 15,
   "id": "a1d44643",
   "metadata": {},
   "outputs": [
    {
     "ename": "SyntaxError",
     "evalue": "invalid syntax (1200981838.py, line 2)",
     "output_type": "error",
     "traceback": [
      "\u001b[0;36m  Input \u001b[0;32mIn [15]\u001b[0;36m\u001b[0m\n\u001b[0;31m    my_decimal_number = 55d\u001b[0m\n\u001b[0m                          ^\u001b[0m\n\u001b[0;31mSyntaxError\u001b[0m\u001b[0;31m:\u001b[0m invalid syntax\n"
     ]
    }
   ],
   "source": [
    "# error\n",
    "my_decimal_number = 55d\n",
    "print(\"El valor de my_decimal_number es: \", my_decimal_number)"
   ]
  },
  {
   "cell_type": "code",
   "execution_count": 16,
   "id": "8a06c73e",
   "metadata": {},
   "outputs": [
    {
     "ename": "SyntaxError",
     "evalue": "invalid syntax (719297318.py, line 2)",
     "output_type": "error",
     "traceback": [
      "\u001b[0;36m  Input \u001b[0;32mIn [16]\u001b[0;36m\u001b[0m\n\u001b[0;31m    my_decimal_number = 55@\u001b[0m\n\u001b[0m                           ^\u001b[0m\n\u001b[0;31mSyntaxError\u001b[0m\u001b[0;31m:\u001b[0m invalid syntax\n"
     ]
    }
   ],
   "source": [
    "# error\n",
    "my_decimal_number = 55@\n",
    "print(\"El valor de my_decimal_number es: \", my_decimal_number)"
   ]
  },
  {
   "cell_type": "markdown",
   "id": "53ceb31b",
   "metadata": {},
   "source": [
    "# Forma Binaria\n",
    "- Código organizado en bytes\n",
    "- Lenguaje Binario\n",
    "- Lenguaje de las Máquinas (1 y 0)\n",
    "\n",
    "### Valor Base: 2\n",
    "\n",
    "- Solamente acepta dos dígitos (1 y 0)\n",
    "- Usamos el prefijo '0b' o '0B'"
   ]
  },
  {
   "cell_type": "code",
   "execution_count": 19,
   "id": "73f99928",
   "metadata": {},
   "outputs": [
    {
     "name": "stdout",
     "output_type": "stream",
     "text": [
      "El valor de my_decimal_number es:  11\n"
     ]
    }
   ],
   "source": [
    "my_decimal_number = 11\n",
    "print(\"El valor de my_decimal_number es: \", my_decimal_number)"
   ]
  },
  {
   "cell_type": "code",
   "execution_count": 20,
   "id": "24ea163b",
   "metadata": {},
   "outputs": [
    {
     "name": "stdout",
     "output_type": "stream",
     "text": [
      "El valor de my_binary_number es:  3\n"
     ]
    }
   ],
   "source": [
    "my_binary_number = 0b11 # 1*2**1 + 1*2**0\n",
    "print(\"El valor de my_binary_number es: \", my_binary_number)"
   ]
  },
  {
   "cell_type": "code",
   "execution_count": 21,
   "id": "7387000e",
   "metadata": {},
   "outputs": [
    {
     "name": "stdout",
     "output_type": "stream",
     "text": [
      "El valor de my_decimal_number es:  111\n"
     ]
    }
   ],
   "source": [
    "my_decimal_number = 111\n",
    "print(\"El valor de my_decimal_number es: \", my_decimal_number)"
   ]
  },
  {
   "cell_type": "code",
   "execution_count": 22,
   "id": "6cc32c63",
   "metadata": {},
   "outputs": [
    {
     "name": "stdout",
     "output_type": "stream",
     "text": [
      "El valor de my_binary_number es:  7\n"
     ]
    }
   ],
   "source": [
    "my_binary_number = 0B111 # 1*2**2 + 1*2**1 + 1*2**0\n",
    "print(\"El valor de my_binary_number es: \", my_binary_number)"
   ]
  },
  {
   "cell_type": "markdown",
   "id": "404e57e3",
   "metadata": {},
   "source": [
    "# Forma Octal\n",
    "\n",
    "### Valor Base: 8\n",
    "- Solamente acepta dígitos del 0 al 7\n",
    "- Usamos el prefijo '0o' o '0O'"
   ]
  },
  {
   "cell_type": "code",
   "execution_count": 23,
   "id": "5c66548f",
   "metadata": {},
   "outputs": [
    {
     "name": "stdout",
     "output_type": "stream",
     "text": [
      "El valor de my_decimal_number es:  17\n"
     ]
    }
   ],
   "source": [
    "my_decimal_number = 17\n",
    "print(\"El valor de my_decimal_number es: \", my_decimal_number)"
   ]
  },
  {
   "cell_type": "code",
   "execution_count": 24,
   "id": "e7c38063",
   "metadata": {},
   "outputs": [
    {
     "name": "stdout",
     "output_type": "stream",
     "text": [
      "El valor de my_octal_number es:  15\n"
     ]
    }
   ],
   "source": [
    "my_octal_number = 0o17 # 1*8**1 + 7*8**0\n",
    "print(\"El valor de my_octal_number es: \", my_octal_number)"
   ]
  },
  {
   "cell_type": "code",
   "execution_count": 25,
   "id": "e816f438",
   "metadata": {},
   "outputs": [
    {
     "name": "stdout",
     "output_type": "stream",
     "text": [
      "El valor de my_decimal_number es:  153\n"
     ]
    }
   ],
   "source": [
    "my_decimal_number = 153\n",
    "print(\"El valor de my_decimal_number es: \", my_decimal_number)"
   ]
  },
  {
   "cell_type": "code",
   "execution_count": 26,
   "id": "81bca1be",
   "metadata": {},
   "outputs": [
    {
     "name": "stdout",
     "output_type": "stream",
     "text": [
      "El valor de my_octal_number es:  107\n"
     ]
    }
   ],
   "source": [
    "my_octal_number = 0O153 # 1*8**2 + 5*8**1 + 3*8**0\n",
    "print(\"El valor de my_octal_number es: \", my_octal_number)"
   ]
  },
  {
   "cell_type": "markdown",
   "id": "09bb5f6d",
   "metadata": {},
   "source": [
    "# Forma Hexadecimal\n",
    "\n",
    "### Valor Base: 16\n",
    "- Acepta dígitos del 0 al 9\n",
    "- Aceptar letras de la 'a/A' a la 'f/F'\n",
    "- Usamos el prefijo '0x' o '0X'\n",
    "\n",
    "- 0\n",
    "- 1\n",
    "- 2\n",
    "- 3\n",
    "- 4\n",
    "- 5\n",
    "- 6\n",
    "- 7\n",
    "- 8\n",
    "- 9\n",
    "- A = 10\n",
    "- B = 11\n",
    "- C = 12\n",
    "- D = 13\n",
    "- E = 14\n",
    "- F = 15"
   ]
  },
  {
   "cell_type": "code",
   "execution_count": 27,
   "id": "d5af589f",
   "metadata": {},
   "outputs": [
    {
     "name": "stdout",
     "output_type": "stream",
     "text": [
      "El valor de my_decimal_number es:  17\n"
     ]
    }
   ],
   "source": [
    "my_decimal_number = 17\n",
    "print(\"El valor de my_decimal_number es: \", my_decimal_number)"
   ]
  },
  {
   "cell_type": "code",
   "execution_count": 28,
   "id": "dda8a717",
   "metadata": {},
   "outputs": [
    {
     "name": "stdout",
     "output_type": "stream",
     "text": [
      "El valor de my_octal_number es:  23\n"
     ]
    }
   ],
   "source": [
    "my_hex_number = 0x17 # 1*16**1 + 7*16**0\n",
    "print(\"El valor de my_octal_number es: \", my_hex_number)"
   ]
  },
  {
   "cell_type": "code",
   "execution_count": 29,
   "id": "f4bc4ce7",
   "metadata": {},
   "outputs": [
    {
     "name": "stdout",
     "output_type": "stream",
     "text": [
      "El valor de my_octal_number es:  28\n"
     ]
    }
   ],
   "source": [
    "my_hex_number = 0x1C # 1*16**1 + 12*16**0\n",
    "print(\"El valor de my_octal_number es: \", my_hex_number)"
   ]
  },
  {
   "cell_type": "code",
   "execution_count": null,
   "id": "d47957ad",
   "metadata": {},
   "outputs": [],
   "source": []
  }
 ],
 "metadata": {
  "kernelspec": {
   "display_name": "Python 3 (ipykernel)",
   "language": "python",
   "name": "python3"
  },
  "language_info": {
   "codemirror_mode": {
    "name": "ipython",
    "version": 3
   },
   "file_extension": ".py",
   "mimetype": "text/x-python",
   "name": "python",
   "nbconvert_exporter": "python",
   "pygments_lexer": "ipython3",
   "version": "3.9.12"
  }
 },
 "nbformat": 4,
 "nbformat_minor": 5
}
